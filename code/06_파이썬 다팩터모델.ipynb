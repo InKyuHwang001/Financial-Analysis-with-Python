{
 "cells": [
  {
   "cell_type": "markdown",
   "id": "3154cc19",
   "metadata": {},
   "source": [
    "## 시장데이터 가져오기"
   ]
  },
  {
   "cell_type": "code",
   "execution_count": 4,
   "id": "9fee57ee",
   "metadata": {
    "ExecuteTime": {
     "end_time": "2021-09-05T11:04:57.242911Z",
     "start_time": "2021-09-05T11:04:57.156979Z"
    }
   },
   "outputs": [],
   "source": [
    "#!pip install pandas-datareader\n",
    "import pandas_datareader as pdr\n",
    "import FinanceDataReader as fdr\n",
    "import matplotlib.pyplot as plt\n",
    "import statsmodels.api as sm\n",
    "import numpy as np\n",
    "import pandas as pd"
   ]
  },
  {
   "cell_type": "code",
   "execution_count": 5,
   "id": "0d04c468",
   "metadata": {
    "ExecuteTime": {
     "end_time": "2021-09-05T04:50:33.782950Z",
     "start_time": "2021-09-05T04:50:29.782882Z"
    }
   },
   "outputs": [],
   "source": [
    "snp = fdr.DataReader('US500')\n",
    "snp = np.log(snp.Close) - np.log(snp.Close.shift(1))\n",
    "snp_ret = snp.dropna() * 100\n",
    "snp_ret.name = 'snp_ret'"
   ]
  },
  {
   "cell_type": "code",
   "execution_count": 6,
   "id": "416fa16b",
   "metadata": {
    "ExecuteTime": {
     "end_time": "2021-09-05T04:50:40.150481Z",
     "start_time": "2021-09-05T04:50:40.126902Z"
    }
   },
   "outputs": [
    {
     "data": {
      "text/plain": [
       "count    10792.000000\n",
       "mean         0.032457\n",
       "std          1.139751\n",
       "min        -22.917515\n",
       "25%         -0.455550\n",
       "50%          0.057544\n",
       "75%          0.569480\n",
       "max         10.957196\n",
       "Name: snp_ret, dtype: float64"
      ]
     },
     "execution_count": 6,
     "metadata": {},
     "output_type": "execute_result"
    }
   ],
   "source": [
    "snp_ret.describe()"
   ]
  },
  {
   "cell_type": "code",
   "execution_count": 7,
   "id": "d63d95e5",
   "metadata": {
    "ExecuteTime": {
     "end_time": "2021-09-05T04:50:49.187090Z",
     "start_time": "2021-09-05T04:50:48.462667Z"
    }
   },
   "outputs": [
    {
     "data": {
      "image/png": "[encoded data removed]",
      "text/plain": [
       "<Figure size 432x288 with 1 Axes>"
      ]
     },
     "metadata": {
      "needs_background": "light"
     },
     "output_type": "display_data"
    }
   ],
   "source": [
    "snp_ret.plot()\n",
    "plt.show()"
   ]
  },
  {
   "cell_type": "markdown",
   "id": "09858137",
   "metadata": {},
   "source": [
    "## Fama-French 5 factor model"
   ]
  },
  {
   "cell_type": "code",
   "execution_count": 8,
   "id": "a046a00d",
   "metadata": {
    "ExecuteTime": {
     "end_time": "2021-08-31T09:58:44.324005Z",
     "start_time": "2021-08-31T09:58:43.187489Z"
    }
   },
   "outputs": [
    {
     "data": {
      "text/plain": [
       "297"
      ]
     },
     "execution_count": 8,
     "metadata": {},
     "output_type": "execute_result"
    }
   ],
   "source": [
    "import pandas_datareader.famafrench as ff\n",
    "\n",
    "#famafrench 데이터셋 확인하기\n",
    "datasets = ff.get_available_datasets()\n",
    "len(datasets)"
   ]
  },
  {
   "cell_type": "code",
   "execution_count": 9,
   "id": "deb535ca",
   "metadata": {
    "ExecuteTime": {
     "end_time": "2021-09-05T04:51:23.571164Z",
     "start_time": "2021-09-05T04:51:19.133992Z"
    }
   },
   "outputs": [
    {
     "data": {
      "text/html": [
       "<div>\n",
       "<style scoped>\n",
       "    .dataframe tbody tr th:only-of-type {\n",
       "        vertical-align: middle;\n",
       "    }\n",
       "\n",
       "    .dataframe tbody tr th {\n",
       "        vertical-align: top;\n",
       "    }\n",
       "\n",
       "    .dataframe thead th {\n",
       "        text-align: right;\n",
       "    }\n",
       "</style>\n",
       "<table border=\"1\" class=\"dataframe\">\n",
       "  <thead>\n",
       "    <tr style=\"text-align: right;\">\n",
       "      <th></th>\n",
       "      <th>Mkt-RF</th>\n",
       "      <th>SMB</th>\n",
       "      <th>HML</th>\n",
       "      <th>RMW</th>\n",
       "      <th>CMA</th>\n",
       "      <th>RF</th>\n",
       "    </tr>\n",
       "    <tr>\n",
       "      <th>Date</th>\n",
       "      <th></th>\n",
       "      <th></th>\n",
       "      <th></th>\n",
       "      <th></th>\n",
       "      <th></th>\n",
       "      <th></th>\n",
       "    </tr>\n",
       "  </thead>\n",
       "  <tbody>\n",
       "    <tr>\n",
       "      <th>2006-01-03</th>\n",
       "      <td>1.50</td>\n",
       "      <td>-0.15</td>\n",
       "      <td>0.16</td>\n",
       "      <td>0.18</td>\n",
       "      <td>-0.32</td>\n",
       "      <td>0.017</td>\n",
       "    </tr>\n",
       "    <tr>\n",
       "      <th>2006-01-04</th>\n",
       "      <td>0.46</td>\n",
       "      <td>0.31</td>\n",
       "      <td>0.03</td>\n",
       "      <td>-0.44</td>\n",
       "      <td>0.33</td>\n",
       "      <td>0.017</td>\n",
       "    </tr>\n",
       "    <tr>\n",
       "      <th>2006-01-05</th>\n",
       "      <td>0.03</td>\n",
       "      <td>0.23</td>\n",
       "      <td>-0.10</td>\n",
       "      <td>-0.55</td>\n",
       "      <td>0.20</td>\n",
       "      <td>0.017</td>\n",
       "    </tr>\n",
       "    <tr>\n",
       "      <th>2006-01-06</th>\n",
       "      <td>0.92</td>\n",
       "      <td>0.10</td>\n",
       "      <td>-0.24</td>\n",
       "      <td>-0.04</td>\n",
       "      <td>0.14</td>\n",
       "      <td>0.017</td>\n",
       "    </tr>\n",
       "    <tr>\n",
       "      <th>2006-01-09</th>\n",
       "      <td>0.45</td>\n",
       "      <td>0.51</td>\n",
       "      <td>-0.17</td>\n",
       "      <td>0.06</td>\n",
       "      <td>-0.03</td>\n",
       "      <td>0.017</td>\n",
       "    </tr>\n",
       "    <tr>\n",
       "      <th>...</th>\n",
       "      <td>...</td>\n",
       "      <td>...</td>\n",
       "      <td>...</td>\n",
       "      <td>...</td>\n",
       "      <td>...</td>\n",
       "      <td>...</td>\n",
       "    </tr>\n",
       "    <tr>\n",
       "      <th>2022-08-25</th>\n",
       "      <td>1.45</td>\n",
       "      <td>0.14</td>\n",
       "      <td>-0.01</td>\n",
       "      <td>0.12</td>\n",
       "      <td>-0.41</td>\n",
       "      <td>0.008</td>\n",
       "    </tr>\n",
       "    <tr>\n",
       "      <th>2022-08-26</th>\n",
       "      <td>-3.38</td>\n",
       "      <td>-0.28</td>\n",
       "      <td>1.69</td>\n",
       "      <td>0.24</td>\n",
       "      <td>0.87</td>\n",
       "      <td>0.008</td>\n",
       "    </tr>\n",
       "    <tr>\n",
       "      <th>2022-08-29</th>\n",
       "      <td>-0.72</td>\n",
       "      <td>-0.38</td>\n",
       "      <td>0.42</td>\n",
       "      <td>0.23</td>\n",
       "      <td>0.42</td>\n",
       "      <td>0.008</td>\n",
       "    </tr>\n",
       "    <tr>\n",
       "      <th>2022-08-30</th>\n",
       "      <td>-1.11</td>\n",
       "      <td>-0.38</td>\n",
       "      <td>-0.24</td>\n",
       "      <td>-0.24</td>\n",
       "      <td>0.12</td>\n",
       "      <td>0.008</td>\n",
       "    </tr>\n",
       "    <tr>\n",
       "      <th>2022-08-31</th>\n",
       "      <td>-0.74</td>\n",
       "      <td>0.22</td>\n",
       "      <td>-0.44</td>\n",
       "      <td>-0.63</td>\n",
       "      <td>-0.12</td>\n",
       "      <td>0.008</td>\n",
       "    </tr>\n",
       "  </tbody>\n",
       "</table>\n",
       "<p>4195 rows × 6 columns</p>\n",
       "</div>"
      ],
      "text/plain": [
       "            Mkt-RF   SMB   HML   RMW   CMA     RF\n",
       "Date                                             \n",
       "2006-01-03    1.50 -0.15  0.16  0.18 -0.32  0.017\n",
       "2006-01-04    0.46  0.31  0.03 -0.44  0.33  0.017\n",
       "2006-01-05    0.03  0.23 -0.10 -0.55  0.20  0.017\n",
       "2006-01-06    0.92  0.10 -0.24 -0.04  0.14  0.017\n",
       "2006-01-09    0.45  0.51 -0.17  0.06 -0.03  0.017\n",
       "...            ...   ...   ...   ...   ...    ...\n",
       "2022-08-25    1.45  0.14 -0.01  0.12 -0.41  0.008\n",
       "2022-08-26   -3.38 -0.28  1.69  0.24  0.87  0.008\n",
       "2022-08-29   -0.72 -0.38  0.42  0.23  0.42  0.008\n",
       "2022-08-30   -1.11 -0.38 -0.24 -0.24  0.12  0.008\n",
       "2022-08-31   -0.74  0.22 -0.44 -0.63 -0.12  0.008\n",
       "\n",
       "[4195 rows x 6 columns]"
      ]
     },
     "execution_count": 9,
     "metadata": {},
     "output_type": "execute_result"
    }
   ],
   "source": [
    "ff5 = pdr.DataReader('F-F_Research_Data_5_Factors_2x3_daily', 'famafrench', '2006')[0]\n",
    "ff5"
   ]
  },
  {
   "cell_type": "code",
   "execution_count": 10,
   "id": "e89bb31c",
   "metadata": {
    "ExecuteTime": {
     "end_time": "2021-09-05T04:51:38.079632Z",
     "start_time": "2021-09-05T04:51:38.025128Z"
    }
   },
   "outputs": [
    {
     "data": {
      "text/html": [
       "<div>\n",
       "<style scoped>\n",
       "    .dataframe tbody tr th:only-of-type {\n",
       "        vertical-align: middle;\n",
       "    }\n",
       "\n",
       "    .dataframe tbody tr th {\n",
       "        vertical-align: top;\n",
       "    }\n",
       "\n",
       "    .dataframe thead th {\n",
       "        text-align: right;\n",
       "    }\n",
       "</style>\n",
       "<table border=\"1\" class=\"dataframe\">\n",
       "  <thead>\n",
       "    <tr style=\"text-align: right;\">\n",
       "      <th></th>\n",
       "      <th>Mkt-RF</th>\n",
       "      <th>SMB</th>\n",
       "      <th>HML</th>\n",
       "      <th>RMW</th>\n",
       "      <th>CMA</th>\n",
       "      <th>RF</th>\n",
       "    </tr>\n",
       "  </thead>\n",
       "  <tbody>\n",
       "    <tr>\n",
       "      <th>count</th>\n",
       "      <td>4195.000000</td>\n",
       "      <td>4195.000000</td>\n",
       "      <td>4195.000000</td>\n",
       "      <td>4195.000000</td>\n",
       "      <td>4195.000000</td>\n",
       "      <td>4195.000000</td>\n",
       "    </tr>\n",
       "    <tr>\n",
       "      <th>mean</th>\n",
       "      <td>0.039871</td>\n",
       "      <td>0.002639</td>\n",
       "      <td>-0.004188</td>\n",
       "      <td>0.014784</td>\n",
       "      <td>0.005104</td>\n",
       "      <td>0.004018</td>\n",
       "    </tr>\n",
       "    <tr>\n",
       "      <th>std</th>\n",
       "      <td>1.276623</td>\n",
       "      <td>0.633801</td>\n",
       "      <td>0.830243</td>\n",
       "      <td>0.446258</td>\n",
       "      <td>0.367642</td>\n",
       "      <td>0.006089</td>\n",
       "    </tr>\n",
       "    <tr>\n",
       "      <th>min</th>\n",
       "      <td>-12.000000</td>\n",
       "      <td>-4.560000</td>\n",
       "      <td>-5.000000</td>\n",
       "      <td>-2.720000</td>\n",
       "      <td>-2.260000</td>\n",
       "      <td>0.000000</td>\n",
       "    </tr>\n",
       "    <tr>\n",
       "      <th>25%</th>\n",
       "      <td>-0.420000</td>\n",
       "      <td>-0.355000</td>\n",
       "      <td>-0.350000</td>\n",
       "      <td>-0.220000</td>\n",
       "      <td>-0.190000</td>\n",
       "      <td>0.000000</td>\n",
       "    </tr>\n",
       "    <tr>\n",
       "      <th>50%</th>\n",
       "      <td>0.080000</td>\n",
       "      <td>0.000000</td>\n",
       "      <td>-0.030000</td>\n",
       "      <td>0.010000</td>\n",
       "      <td>-0.010000</td>\n",
       "      <td>0.001000</td>\n",
       "    </tr>\n",
       "    <tr>\n",
       "      <th>75%</th>\n",
       "      <td>0.600000</td>\n",
       "      <td>0.355000</td>\n",
       "      <td>0.310000</td>\n",
       "      <td>0.240000</td>\n",
       "      <td>0.190000</td>\n",
       "      <td>0.007000</td>\n",
       "    </tr>\n",
       "    <tr>\n",
       "      <th>max</th>\n",
       "      <td>11.350000</td>\n",
       "      <td>5.730000</td>\n",
       "      <td>6.740000</td>\n",
       "      <td>4.210000</td>\n",
       "      <td>2.460000</td>\n",
       "      <td>0.022000</td>\n",
       "    </tr>\n",
       "  </tbody>\n",
       "</table>\n",
       "</div>"
      ],
      "text/plain": [
       "            Mkt-RF          SMB          HML          RMW          CMA  \\\n",
       "count  4195.000000  4195.000000  4195.000000  4195.000000  4195.000000   \n",
       "mean      0.039871     0.002639    -0.004188     0.014784     0.005104   \n",
       "std       1.276623     0.633801     0.830243     0.446258     0.367642   \n",
       "min     -12.000000    -4.560000    -5.000000    -2.720000    -2.260000   \n",
       "25%      -0.420000    -0.355000    -0.350000    -0.220000    -0.190000   \n",
       "50%       0.080000     0.000000    -0.030000     0.010000    -0.010000   \n",
       "75%       0.600000     0.355000     0.310000     0.240000     0.190000   \n",
       "max      11.350000     5.730000     6.740000     4.210000     2.460000   \n",
       "\n",
       "                RF  \n",
       "count  4195.000000  \n",
       "mean      0.004018  \n",
       "std       0.006089  \n",
       "min       0.000000  \n",
       "25%       0.000000  \n",
       "50%       0.001000  \n",
       "75%       0.007000  \n",
       "max       0.022000  "
      ]
     },
     "execution_count": 10,
     "metadata": {},
     "output_type": "execute_result"
    }
   ],
   "source": [
    "ff5.describe()"
   ]
  },
  {
   "cell_type": "markdown",
   "id": "fe6d61ba",
   "metadata": {},
   "source": [
    "### 팩터별 상관계수"
   ]
  },
  {
   "cell_type": "code",
   "execution_count": 11,
   "id": "16f9dc9c",
   "metadata": {
    "ExecuteTime": {
     "end_time": "2021-09-05T04:51:42.336845Z",
     "start_time": "2021-09-05T04:51:41.577976Z"
    }
   },
   "outputs": [
    {
     "data": {
      "image/png": "[encoded data removed]",
      "text/plain": [
       "<Figure size 432x288 with 2 Axes>"
      ]
     },
     "metadata": {
      "needs_background": "light"
     },
     "output_type": "display_data"
    }
   ],
   "source": [
    "import seaborn as sns\n",
    "sns.heatmap(ff5.corr(), annot=True)\n",
    "plt.show()"
   ]
  },
  {
   "cell_type": "markdown",
   "id": "2878c018",
   "metadata": {},
   "source": [
    "### 팩터별 누적수익률"
   ]
  },
  {
   "cell_type": "code",
   "execution_count": 12,
   "id": "ff03e4e2",
   "metadata": {
    "ExecuteTime": {
     "end_time": "2021-09-05T04:51:44.273563Z",
     "start_time": "2021-09-05T04:51:43.502989Z"
    }
   },
   "outputs": [
    {
     "data": {
      "image/png": "[encoded data removed]",
      "text/plain": [
       "<Figure size 1008x360 with 1 Axes>"
      ]
     },
     "metadata": {
      "needs_background": "light"
     },
     "output_type": "display_data"
    }
   ],
   "source": [
    "(1 + ff5/100).cumprod().plot(figsize=(14,5))\n",
    "plt.show()"
   ]
  },
  {
   "cell_type": "code",
   "execution_count": 13,
   "id": "8e15b7c1",
   "metadata": {
    "ExecuteTime": {
     "end_time": "2021-09-05T04:52:26.702398Z",
     "start_time": "2021-09-05T04:52:26.663893Z"
    }
   },
   "outputs": [
    {
     "data": {
      "text/html": [
       "<div>\n",
       "<style scoped>\n",
       "    .dataframe tbody tr th:only-of-type {\n",
       "        vertical-align: middle;\n",
       "    }\n",
       "\n",
       "    .dataframe tbody tr th {\n",
       "        vertical-align: top;\n",
       "    }\n",
       "\n",
       "    .dataframe thead th {\n",
       "        text-align: right;\n",
       "    }\n",
       "</style>\n",
       "<table border=\"1\" class=\"dataframe\">\n",
       "  <thead>\n",
       "    <tr style=\"text-align: right;\">\n",
       "      <th></th>\n",
       "      <th>Mkt-RF</th>\n",
       "      <th>SMB</th>\n",
       "      <th>HML</th>\n",
       "      <th>RMW</th>\n",
       "      <th>CMA</th>\n",
       "      <th>RF</th>\n",
       "      <th>snp_ret</th>\n",
       "    </tr>\n",
       "    <tr>\n",
       "      <th>Date</th>\n",
       "      <th></th>\n",
       "      <th></th>\n",
       "      <th></th>\n",
       "      <th></th>\n",
       "      <th></th>\n",
       "      <th></th>\n",
       "      <th></th>\n",
       "    </tr>\n",
       "  </thead>\n",
       "  <tbody>\n",
       "    <tr>\n",
       "      <th>2006-01-03</th>\n",
       "      <td>1.50</td>\n",
       "      <td>-0.15</td>\n",
       "      <td>0.16</td>\n",
       "      <td>0.18</td>\n",
       "      <td>-0.32</td>\n",
       "      <td>0.017</td>\n",
       "      <td>1.628895</td>\n",
       "    </tr>\n",
       "    <tr>\n",
       "      <th>2006-01-04</th>\n",
       "      <td>0.46</td>\n",
       "      <td>0.31</td>\n",
       "      <td>0.03</td>\n",
       "      <td>-0.44</td>\n",
       "      <td>0.33</td>\n",
       "      <td>0.017</td>\n",
       "      <td>0.366603</td>\n",
       "    </tr>\n",
       "    <tr>\n",
       "      <th>2006-01-05</th>\n",
       "      <td>0.03</td>\n",
       "      <td>0.23</td>\n",
       "      <td>-0.10</td>\n",
       "      <td>-0.55</td>\n",
       "      <td>0.20</td>\n",
       "      <td>0.017</td>\n",
       "      <td>0.001571</td>\n",
       "    </tr>\n",
       "    <tr>\n",
       "      <th>2006-01-06</th>\n",
       "      <td>0.92</td>\n",
       "      <td>0.10</td>\n",
       "      <td>-0.24</td>\n",
       "      <td>-0.04</td>\n",
       "      <td>0.14</td>\n",
       "      <td>0.017</td>\n",
       "      <td>0.935554</td>\n",
       "    </tr>\n",
       "    <tr>\n",
       "      <th>2006-01-09</th>\n",
       "      <td>0.45</td>\n",
       "      <td>0.51</td>\n",
       "      <td>-0.17</td>\n",
       "      <td>0.06</td>\n",
       "      <td>-0.03</td>\n",
       "      <td>0.017</td>\n",
       "      <td>0.364964</td>\n",
       "    </tr>\n",
       "    <tr>\n",
       "      <th>...</th>\n",
       "      <td>...</td>\n",
       "      <td>...</td>\n",
       "      <td>...</td>\n",
       "      <td>...</td>\n",
       "      <td>...</td>\n",
       "      <td>...</td>\n",
       "      <td>...</td>\n",
       "    </tr>\n",
       "    <tr>\n",
       "      <th>2022-08-25</th>\n",
       "      <td>1.45</td>\n",
       "      <td>0.14</td>\n",
       "      <td>-0.01</td>\n",
       "      <td>0.12</td>\n",
       "      <td>-0.41</td>\n",
       "      <td>0.008</td>\n",
       "      <td>1.399322</td>\n",
       "    </tr>\n",
       "    <tr>\n",
       "      <th>2022-08-26</th>\n",
       "      <td>-3.38</td>\n",
       "      <td>-0.28</td>\n",
       "      <td>1.69</td>\n",
       "      <td>0.24</td>\n",
       "      <td>0.87</td>\n",
       "      <td>0.008</td>\n",
       "      <td>-3.426853</td>\n",
       "    </tr>\n",
       "    <tr>\n",
       "      <th>2022-08-29</th>\n",
       "      <td>-0.72</td>\n",
       "      <td>-0.38</td>\n",
       "      <td>0.42</td>\n",
       "      <td>0.23</td>\n",
       "      <td>0.42</td>\n",
       "      <td>0.008</td>\n",
       "      <td>-0.668872</td>\n",
       "    </tr>\n",
       "    <tr>\n",
       "      <th>2022-08-30</th>\n",
       "      <td>-1.11</td>\n",
       "      <td>-0.38</td>\n",
       "      <td>-0.24</td>\n",
       "      <td>-0.24</td>\n",
       "      <td>0.12</td>\n",
       "      <td>0.008</td>\n",
       "      <td>-1.108937</td>\n",
       "    </tr>\n",
       "    <tr>\n",
       "      <th>2022-08-31</th>\n",
       "      <td>-0.74</td>\n",
       "      <td>0.22</td>\n",
       "      <td>-0.44</td>\n",
       "      <td>-0.63</td>\n",
       "      <td>-0.12</td>\n",
       "      <td>0.008</td>\n",
       "      <td>-0.784776</td>\n",
       "    </tr>\n",
       "  </tbody>\n",
       "</table>\n",
       "<p>4195 rows × 7 columns</p>\n",
       "</div>"
      ],
      "text/plain": [
       "            Mkt-RF   SMB   HML   RMW   CMA     RF   snp_ret\n",
       "Date                                                       \n",
       "2006-01-03    1.50 -0.15  0.16  0.18 -0.32  0.017  1.628895\n",
       "2006-01-04    0.46  0.31  0.03 -0.44  0.33  0.017  0.366603\n",
       "2006-01-05    0.03  0.23 -0.10 -0.55  0.20  0.017  0.001571\n",
       "2006-01-06    0.92  0.10 -0.24 -0.04  0.14  0.017  0.935554\n",
       "2006-01-09    0.45  0.51 -0.17  0.06 -0.03  0.017  0.364964\n",
       "...            ...   ...   ...   ...   ...    ...       ...\n",
       "2022-08-25    1.45  0.14 -0.01  0.12 -0.41  0.008  1.399322\n",
       "2022-08-26   -3.38 -0.28  1.69  0.24  0.87  0.008 -3.426853\n",
       "2022-08-29   -0.72 -0.38  0.42  0.23  0.42  0.008 -0.668872\n",
       "2022-08-30   -1.11 -0.38 -0.24 -0.24  0.12  0.008 -1.108937\n",
       "2022-08-31   -0.74  0.22 -0.44 -0.63 -0.12  0.008 -0.784776\n",
       "\n",
       "[4195 rows x 7 columns]"
      ]
     },
     "execution_count": 13,
     "metadata": {},
     "output_type": "execute_result"
    }
   ],
   "source": [
    "df = pd.concat([ff5, snp_ret], axis=1).dropna()\n",
    "df"
   ]
  },
  {
   "cell_type": "markdown",
   "id": "006ff454",
   "metadata": {},
   "source": [
    "## 회귀분석"
   ]
  },
  {
   "cell_type": "code",
   "execution_count": 14,
   "id": "1b7db014",
   "metadata": {
    "ExecuteTime": {
     "end_time": "2021-09-05T04:52:46.047527Z",
     "start_time": "2021-09-05T04:52:46.025814Z"
    }
   },
   "outputs": [
    {
     "name": "stderr",
     "output_type": "stream",
     "text": [
      "C:\\ProgramData\\Anaconda3\\lib\\site-packages\\statsmodels\\tsa\\tsatools.py:142: FutureWarning: In a future version of pandas all arguments of concat except for the argument 'objs' will be keyword-only\n",
      "  x = pd.concat(x[::order], 1)\n"
     ]
    }
   ],
   "source": [
    "df['snp-rf'] = df.snp_ret - df.RF\n",
    "y = df['snp-rf']\n",
    "X = df[['Mkt-RF','SMB','HML','RMW','CMA']]\n",
    "X = sm.add_constant(X)"
   ]
  },
  {
   "cell_type": "code",
   "execution_count": 15,
   "id": "2a2ff69f",
   "metadata": {
    "ExecuteTime": {
     "end_time": "2021-09-05T04:52:47.759330Z",
     "start_time": "2021-09-05T04:52:47.690429Z"
    }
   },
   "outputs": [
    {
     "data": {
      "text/html": [
       "<table class=\"simpletable\">\n",
       "<caption>OLS Regression Results</caption>\n",
       "<tr>\n",
       "  <th>Dep. Variable:</th>         <td>snp-rf</td>      <th>  R-squared:         </th>  <td>   0.997</td> \n",
       "</tr>\n",
       "<tr>\n",
       "  <th>Model:</th>                   <td>OLS</td>       <th>  Adj. R-squared:    </th>  <td>   0.997</td> \n",
       "</tr>\n",
       "<tr>\n",
       "  <th>Method:</th>             <td>Least Squares</td>  <th>  F-statistic:       </th>  <td>3.194e+05</td>\n",
       "</tr>\n",
       "<tr>\n",
       "  <th>Date:</th>             <td>Mon, 17 Oct 2022</td> <th>  Prob (F-statistic):</th>   <td>  0.00</td>  \n",
       "</tr>\n",
       "<tr>\n",
       "  <th>Time:</th>                 <td>00:01:33</td>     <th>  Log-Likelihood:    </th>  <td>  5527.6</td> \n",
       "</tr>\n",
       "<tr>\n",
       "  <th>No. Observations:</th>      <td>  4195</td>      <th>  AIC:               </th> <td>-1.104e+04</td>\n",
       "</tr>\n",
       "<tr>\n",
       "  <th>Df Residuals:</th>          <td>  4189</td>      <th>  BIC:               </th> <td>-1.101e+04</td>\n",
       "</tr>\n",
       "<tr>\n",
       "  <th>Df Model:</th>              <td>     5</td>      <th>                     </th>      <td> </td>    \n",
       "</tr>\n",
       "<tr>\n",
       "  <th>Covariance Type:</th>      <td>nonrobust</td>    <th>                     </th>      <td> </td>    \n",
       "</tr>\n",
       "</table>\n",
       "<table class=\"simpletable\">\n",
       "<tr>\n",
       "     <td></td>       <th>coef</th>     <th>std err</th>      <th>t</th>      <th>P>|t|</th>  <th>[0.025</th>    <th>0.975]</th>  \n",
       "</tr>\n",
       "<tr>\n",
       "  <th>const</th>  <td>   -0.0174</td> <td>    0.001</td> <td>  -17.333</td> <td> 0.000</td> <td>   -0.019</td> <td>   -0.015</td>\n",
       "</tr>\n",
       "<tr>\n",
       "  <th>Mkt-RF</th> <td>    1.0066</td> <td>    0.001</td> <td> 1143.672</td> <td> 0.000</td> <td>    1.005</td> <td>    1.008</td>\n",
       "</tr>\n",
       "<tr>\n",
       "  <th>SMB</th>    <td>   -0.1211</td> <td>    0.002</td> <td>  -71.868</td> <td> 0.000</td> <td>   -0.124</td> <td>   -0.118</td>\n",
       "</tr>\n",
       "<tr>\n",
       "  <th>HML</th>    <td>    0.0331</td> <td>    0.001</td> <td>   22.824</td> <td> 0.000</td> <td>    0.030</td> <td>    0.036</td>\n",
       "</tr>\n",
       "<tr>\n",
       "  <th>RMW</th>    <td>    0.0681</td> <td>    0.002</td> <td>   28.286</td> <td> 0.000</td> <td>    0.063</td> <td>    0.073</td>\n",
       "</tr>\n",
       "<tr>\n",
       "  <th>CMA</th>    <td>    0.0335</td> <td>    0.003</td> <td>   10.335</td> <td> 0.000</td> <td>    0.027</td> <td>    0.040</td>\n",
       "</tr>\n",
       "</table>\n",
       "<table class=\"simpletable\">\n",
       "<tr>\n",
       "  <th>Omnibus:</th>       <td>2278.476</td> <th>  Durbin-Watson:     </th> <td>   1.959</td> \n",
       "</tr>\n",
       "<tr>\n",
       "  <th>Prob(Omnibus):</th>  <td> 0.000</td>  <th>  Jarque-Bera (JB):  </th> <td>74864.513</td>\n",
       "</tr>\n",
       "<tr>\n",
       "  <th>Skew:</th>           <td>-1.990</td>  <th>  Prob(JB):          </th> <td>    0.00</td> \n",
       "</tr>\n",
       "<tr>\n",
       "  <th>Kurtosis:</th>       <td>23.309</td>  <th>  Cond. No.          </th> <td>    4.42</td> \n",
       "</tr>\n",
       "</table><br/><br/>Notes:<br/>[1] Standard Errors assume that the covariance matrix of the errors is correctly specified."
      ],
      "text/plain": [
       "<class 'statsmodels.iolib.summary.Summary'>\n",
       "\"\"\"\n",
       "                            OLS Regression Results                            \n",
       "==============================================================================\n",
       "Dep. Variable:                 snp-rf   R-squared:                       0.997\n",
       "Model:                            OLS   Adj. R-squared:                  0.997\n",
       "Method:                 Least Squares   F-statistic:                 3.194e+05\n",
       "Date:                Mon, 17 Oct 2022   Prob (F-statistic):               0.00\n",
       "Time:                        00:01:33   Log-Likelihood:                 5527.6\n",
       "No. Observations:                4195   AIC:                        -1.104e+04\n",
       "Df Residuals:                    4189   BIC:                        -1.101e+04\n",
       "Df Model:                           5                                         \n",
       "Covariance Type:            nonrobust                                         \n",
       "==============================================================================\n",
       "                 coef    std err          t      P>|t|      [0.025      0.975]\n",
       "------------------------------------------------------------------------------\n",
       "const         -0.0174      0.001    -17.333      0.000      -0.019      -0.015\n",
       "Mkt-RF         1.0066      0.001   1143.672      0.000       1.005       1.008\n",
       "SMB           -0.1211      0.002    -71.868      0.000      -0.124      -0.118\n",
       "HML            0.0331      0.001     22.824      0.000       0.030       0.036\n",
       "RMW            0.0681      0.002     28.286      0.000       0.063       0.073\n",
       "CMA            0.0335      0.003     10.335      0.000       0.027       0.040\n",
       "==============================================================================\n",
       "Omnibus:                     2278.476   Durbin-Watson:                   1.959\n",
       "Prob(Omnibus):                  0.000   Jarque-Bera (JB):            74864.513\n",
       "Skew:                          -1.990   Prob(JB):                         0.00\n",
       "Kurtosis:                      23.309   Cond. No.                         4.42\n",
       "==============================================================================\n",
       "\n",
       "Notes:\n",
       "[1] Standard Errors assume that the covariance matrix of the errors is correctly specified.\n",
       "\"\"\""
      ]
     },
     "execution_count": 15,
     "metadata": {},
     "output_type": "execute_result"
    }
   ],
   "source": [
    "model = sm.OLS(y, X)\n",
    "result = model.fit()\n",
    "result.summary()"
   ]
  },
  {
   "cell_type": "code",
   "execution_count": null,
   "id": "765c0484",
   "metadata": {},
   "outputs": [],
   "source": []
  }
 ],
 "metadata": {
  "hide_input": false,
  "kernelspec": {
   "display_name": "Python 3 (ipykernel)",
   "language": "python",
   "name": "python3"
  },
  "language_info": {
   "codemirror_mode": {
    "name": "ipython",
    "version": 3
   },
   "file_extension": ".py",
   "mimetype": "text/x-python",
   "name": "python",
   "nbconvert_exporter": "python",
   "pygments_lexer": "ipython3",
   "version": "3.9.7"
  },
  "toc": {
   "base_numbering": 1,
   "nav_menu": {},
   "number_sections": true,
   "sideBar": true,
   "skip_h1_title": false,
   "title_cell": "Table of Contents",
   "title_sidebar": "Contents",
   "toc_cell": false,
   "toc_position": {},
   "toc_section_display": true,
   "toc_window_display": false
  },
  "varInspector": {
   "cols": {
    "lenName": 16,
    "lenType": 16,
    "lenVar": 40
   },
   "kernels_config": {
    "python": {
     "delete_cmd_postfix": "",
     "delete_cmd_prefix": "del ",
     "library": "var_list.py",
     "varRefreshCmd": "print(var_dic_list())"
    },
    "r": {
     "delete_cmd_postfix": ") ",
     "delete_cmd_prefix": "rm(",
     "library": "var_list.r",
     "varRefreshCmd": "cat(var_dic_list()) "
    }
   },
   "types_to_exclude": [
    "module",
    "function",
    "builtin_function_or_method",
    "instance",
    "_Feature"
   ],
   "window_display": false
  }
 },
 "nbformat": 4,
 "nbformat_minor": 5
}
