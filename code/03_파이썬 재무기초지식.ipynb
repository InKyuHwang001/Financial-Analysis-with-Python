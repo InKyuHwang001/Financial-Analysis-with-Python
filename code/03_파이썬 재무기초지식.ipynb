{
 "cells": [
  {
   "cell_type": "code",
   "execution_count": 8,
   "id": "e2c31f90",
   "metadata": {},
   "outputs": [],
   "source": [
    "import numpy as np\n",
    "import matplotlib.pyplot as plt"
   ]
  },
  {
   "cell_type": "code",
   "execution_count": 1,
   "id": "fea9aff7",
   "metadata": {
    "ExecuteTime": {
     "end_time": "2021-08-31T09:58:30.541590Z",
     "start_time": "2021-08-31T09:58:29.968771Z"
    }
   },
   "outputs": [
    {
     "data": {
      "text/html": [
       "<div>\n",
       "<style scoped>\n",
       "    .dataframe tbody tr th:only-of-type {\n",
       "        vertical-align: middle;\n",
       "    }\n",
       "\n",
       "    .dataframe tbody tr th {\n",
       "        vertical-align: top;\n",
       "    }\n",
       "\n",
       "    .dataframe thead th {\n",
       "        text-align: right;\n",
       "    }\n",
       "</style>\n",
       "<table border=\"1\" class=\"dataframe\">\n",
       "  <thead>\n",
       "    <tr style=\"text-align: right;\">\n",
       "      <th></th>\n",
       "      <th>SK</th>\n",
       "      <th>SE</th>\n",
       "    </tr>\n",
       "    <tr>\n",
       "      <th>Date</th>\n",
       "      <th></th>\n",
       "      <th></th>\n",
       "    </tr>\n",
       "  </thead>\n",
       "  <tbody>\n",
       "    <tr>\n",
       "      <th>2020-01-02</th>\n",
       "      <td>94700</td>\n",
       "      <td>55200</td>\n",
       "    </tr>\n",
       "    <tr>\n",
       "      <th>2020-01-03</th>\n",
       "      <td>94500</td>\n",
       "      <td>55500</td>\n",
       "    </tr>\n",
       "    <tr>\n",
       "      <th>2020-01-06</th>\n",
       "      <td>94300</td>\n",
       "      <td>55500</td>\n",
       "    </tr>\n",
       "    <tr>\n",
       "      <th>2020-01-07</th>\n",
       "      <td>94000</td>\n",
       "      <td>55800</td>\n",
       "    </tr>\n",
       "    <tr>\n",
       "      <th>2020-01-08</th>\n",
       "      <td>97400</td>\n",
       "      <td>56800</td>\n",
       "    </tr>\n",
       "  </tbody>\n",
       "</table>\n",
       "</div>"
      ],
      "text/plain": [
       "               SK     SE\n",
       "Date                    \n",
       "2020-01-02  94700  55200\n",
       "2020-01-03  94500  55500\n",
       "2020-01-06  94300  55500\n",
       "2020-01-07  94000  55800\n",
       "2020-01-08  97400  56800"
      ]
     },
     "execution_count": 1,
     "metadata": {},
     "output_type": "execute_result"
    }
   ],
   "source": [
    "import FinanceDataReader as fdr\n",
    "import pandas as pd\n",
    "import json\n",
    "stock2code = json.load(open('data/stock2code.json','r'))\n",
    "\n",
    "sk = fdr.DataReader(stock2code['SK하이닉스'])[['Close']]\n",
    "se = fdr.DataReader(stock2code['삼성전자'])[['Close']]\n",
    "prices = pd.concat([sk, se], axis=1).loc['2020-01-01':'2020-12-31']\n",
    "prices.columns =['SK','SE']\n",
    "prices.head()"
   ]
  },
  {
   "cell_type": "markdown",
   "id": "08137b03",
   "metadata": {},
   "source": [
    "## 일별수익률"
   ]
  },
  {
   "cell_type": "markdown",
   "id": "25c12cdb",
   "metadata": {},
   "source": [
    "$$ \\frac{P_t}{P_{t-1}} - 1$$"
   ]
  },
  {
   "cell_type": "code",
   "execution_count": 2,
   "id": "c23b353f",
   "metadata": {
    "ExecuteTime": {
     "end_time": "2021-08-31T09:58:30.571852Z",
     "start_time": "2021-08-31T09:58:30.546620Z"
    }
   },
   "outputs": [
    {
     "data": {
      "text/html": [
       "<div>\n",
       "<style scoped>\n",
       "    .dataframe tbody tr th:only-of-type {\n",
       "        vertical-align: middle;\n",
       "    }\n",
       "\n",
       "    .dataframe tbody tr th {\n",
       "        vertical-align: top;\n",
       "    }\n",
       "\n",
       "    .dataframe thead th {\n",
       "        text-align: right;\n",
       "    }\n",
       "</style>\n",
       "<table border=\"1\" class=\"dataframe\">\n",
       "  <thead>\n",
       "    <tr style=\"text-align: right;\">\n",
       "      <th></th>\n",
       "      <th>SK</th>\n",
       "      <th>SE</th>\n",
       "    </tr>\n",
       "    <tr>\n",
       "      <th>Date</th>\n",
       "      <th></th>\n",
       "      <th></th>\n",
       "    </tr>\n",
       "  </thead>\n",
       "  <tbody>\n",
       "    <tr>\n",
       "      <th>2020-01-02</th>\n",
       "      <td>NaN</td>\n",
       "      <td>NaN</td>\n",
       "    </tr>\n",
       "    <tr>\n",
       "      <th>2020-01-03</th>\n",
       "      <td>-0.002112</td>\n",
       "      <td>0.005435</td>\n",
       "    </tr>\n",
       "    <tr>\n",
       "      <th>2020-01-06</th>\n",
       "      <td>-0.002116</td>\n",
       "      <td>0.000000</td>\n",
       "    </tr>\n",
       "    <tr>\n",
       "      <th>2020-01-07</th>\n",
       "      <td>-0.003181</td>\n",
       "      <td>0.005405</td>\n",
       "    </tr>\n",
       "    <tr>\n",
       "      <th>2020-01-08</th>\n",
       "      <td>0.036170</td>\n",
       "      <td>0.017921</td>\n",
       "    </tr>\n",
       "    <tr>\n",
       "      <th>...</th>\n",
       "      <td>...</td>\n",
       "      <td>...</td>\n",
       "    </tr>\n",
       "    <tr>\n",
       "      <th>2020-12-23</th>\n",
       "      <td>0.031111</td>\n",
       "      <td>0.022130</td>\n",
       "    </tr>\n",
       "    <tr>\n",
       "      <th>2020-12-24</th>\n",
       "      <td>0.017241</td>\n",
       "      <td>0.052774</td>\n",
       "    </tr>\n",
       "    <tr>\n",
       "      <th>2020-12-28</th>\n",
       "      <td>-0.021186</td>\n",
       "      <td>0.011568</td>\n",
       "    </tr>\n",
       "    <tr>\n",
       "      <th>2020-12-29</th>\n",
       "      <td>0.004329</td>\n",
       "      <td>-0.005083</td>\n",
       "    </tr>\n",
       "    <tr>\n",
       "      <th>2020-12-30</th>\n",
       "      <td>0.021552</td>\n",
       "      <td>0.034483</td>\n",
       "    </tr>\n",
       "  </tbody>\n",
       "</table>\n",
       "<p>248 rows × 2 columns</p>\n",
       "</div>"
      ],
      "text/plain": [
       "                  SK        SE\n",
       "Date                          \n",
       "2020-01-02       NaN       NaN\n",
       "2020-01-03 -0.002112  0.005435\n",
       "2020-01-06 -0.002116  0.000000\n",
       "2020-01-07 -0.003181  0.005405\n",
       "2020-01-08  0.036170  0.017921\n",
       "...              ...       ...\n",
       "2020-12-23  0.031111  0.022130\n",
       "2020-12-24  0.017241  0.052774\n",
       "2020-12-28 -0.021186  0.011568\n",
       "2020-12-29  0.004329 -0.005083\n",
       "2020-12-30  0.021552  0.034483\n",
       "\n",
       "[248 rows x 2 columns]"
      ]
     },
     "execution_count": 2,
     "metadata": {},
     "output_type": "execute_result"
    }
   ],
   "source": [
    "# shift\n",
    "prices / prices.shift(1) - 1"
   ]
  },
  {
   "cell_type": "code",
   "execution_count": 3,
   "id": "a65225c3",
   "metadata": {
    "ExecuteTime": {
     "end_time": "2021-08-31T09:58:30.616989Z",
     "start_time": "2021-08-31T09:58:30.574427Z"
    }
   },
   "outputs": [
    {
     "data": {
      "text/html": [
       "<div>\n",
       "<style scoped>\n",
       "    .dataframe tbody tr th:only-of-type {\n",
       "        vertical-align: middle;\n",
       "    }\n",
       "\n",
       "    .dataframe tbody tr th {\n",
       "        vertical-align: top;\n",
       "    }\n",
       "\n",
       "    .dataframe thead th {\n",
       "        text-align: right;\n",
       "    }\n",
       "</style>\n",
       "<table border=\"1\" class=\"dataframe\">\n",
       "  <thead>\n",
       "    <tr style=\"text-align: right;\">\n",
       "      <th></th>\n",
       "      <th>SK</th>\n",
       "      <th>SE</th>\n",
       "    </tr>\n",
       "    <tr>\n",
       "      <th>Date</th>\n",
       "      <th></th>\n",
       "      <th></th>\n",
       "    </tr>\n",
       "  </thead>\n",
       "  <tbody>\n",
       "    <tr>\n",
       "      <th>2020-01-02</th>\n",
       "      <td>NaN</td>\n",
       "      <td>NaN</td>\n",
       "    </tr>\n",
       "    <tr>\n",
       "      <th>2020-01-03</th>\n",
       "      <td>-0.002112</td>\n",
       "      <td>0.005435</td>\n",
       "    </tr>\n",
       "    <tr>\n",
       "      <th>2020-01-06</th>\n",
       "      <td>-0.002116</td>\n",
       "      <td>0.000000</td>\n",
       "    </tr>\n",
       "    <tr>\n",
       "      <th>2020-01-07</th>\n",
       "      <td>-0.003181</td>\n",
       "      <td>0.005405</td>\n",
       "    </tr>\n",
       "    <tr>\n",
       "      <th>2020-01-08</th>\n",
       "      <td>0.036170</td>\n",
       "      <td>0.017921</td>\n",
       "    </tr>\n",
       "    <tr>\n",
       "      <th>...</th>\n",
       "      <td>...</td>\n",
       "      <td>...</td>\n",
       "    </tr>\n",
       "    <tr>\n",
       "      <th>2020-12-23</th>\n",
       "      <td>0.031111</td>\n",
       "      <td>0.022130</td>\n",
       "    </tr>\n",
       "    <tr>\n",
       "      <th>2020-12-24</th>\n",
       "      <td>0.017241</td>\n",
       "      <td>0.052774</td>\n",
       "    </tr>\n",
       "    <tr>\n",
       "      <th>2020-12-28</th>\n",
       "      <td>-0.021186</td>\n",
       "      <td>0.011568</td>\n",
       "    </tr>\n",
       "    <tr>\n",
       "      <th>2020-12-29</th>\n",
       "      <td>0.004329</td>\n",
       "      <td>-0.005083</td>\n",
       "    </tr>\n",
       "    <tr>\n",
       "      <th>2020-12-30</th>\n",
       "      <td>0.021552</td>\n",
       "      <td>0.034483</td>\n",
       "    </tr>\n",
       "  </tbody>\n",
       "</table>\n",
       "<p>248 rows × 2 columns</p>\n",
       "</div>"
      ],
      "text/plain": [
       "                  SK        SE\n",
       "Date                          \n",
       "2020-01-02       NaN       NaN\n",
       "2020-01-03 -0.002112  0.005435\n",
       "2020-01-06 -0.002116  0.000000\n",
       "2020-01-07 -0.003181  0.005405\n",
       "2020-01-08  0.036170  0.017921\n",
       "...              ...       ...\n",
       "2020-12-23  0.031111  0.022130\n",
       "2020-12-24  0.017241  0.052774\n",
       "2020-12-28 -0.021186  0.011568\n",
       "2020-12-29  0.004329 -0.005083\n",
       "2020-12-30  0.021552  0.034483\n",
       "\n",
       "[248 rows x 2 columns]"
      ]
     },
     "execution_count": 3,
     "metadata": {},
     "output_type": "execute_result"
    }
   ],
   "source": [
    "# pct_change\n",
    "prices.pct_change()"
   ]
  },
  {
   "cell_type": "code",
   "execution_count": 6,
   "id": "3da36300",
   "metadata": {
    "ExecuteTime": {
     "end_time": "2021-08-31T09:58:30.647431Z",
     "start_time": "2021-08-31T09:58:30.619414Z"
    }
   },
   "outputs": [
    {
     "data": {
      "text/html": [
       "<div>\n",
       "<style scoped>\n",
       "    .dataframe tbody tr th:only-of-type {\n",
       "        vertical-align: middle;\n",
       "    }\n",
       "\n",
       "    .dataframe tbody tr th {\n",
       "        vertical-align: top;\n",
       "    }\n",
       "\n",
       "    .dataframe thead th {\n",
       "        text-align: right;\n",
       "    }\n",
       "</style>\n",
       "<table border=\"1\" class=\"dataframe\">\n",
       "  <thead>\n",
       "    <tr style=\"text-align: right;\">\n",
       "      <th></th>\n",
       "      <th>SK</th>\n",
       "      <th>SE</th>\n",
       "    </tr>\n",
       "    <tr>\n",
       "      <th>Date</th>\n",
       "      <th></th>\n",
       "      <th></th>\n",
       "    </tr>\n",
       "  </thead>\n",
       "  <tbody>\n",
       "    <tr>\n",
       "      <th>2020-01-02</th>\n",
       "      <td>NaN</td>\n",
       "      <td>NaN</td>\n",
       "    </tr>\n",
       "    <tr>\n",
       "      <th>2020-01-03</th>\n",
       "      <td>-0.002114</td>\n",
       "      <td>0.005420</td>\n",
       "    </tr>\n",
       "    <tr>\n",
       "      <th>2020-01-06</th>\n",
       "      <td>-0.002119</td>\n",
       "      <td>0.000000</td>\n",
       "    </tr>\n",
       "    <tr>\n",
       "      <th>2020-01-07</th>\n",
       "      <td>-0.003186</td>\n",
       "      <td>0.005391</td>\n",
       "    </tr>\n",
       "    <tr>\n",
       "      <th>2020-01-08</th>\n",
       "      <td>0.035531</td>\n",
       "      <td>0.017762</td>\n",
       "    </tr>\n",
       "    <tr>\n",
       "      <th>...</th>\n",
       "      <td>...</td>\n",
       "      <td>...</td>\n",
       "    </tr>\n",
       "    <tr>\n",
       "      <th>2020-12-23</th>\n",
       "      <td>0.030637</td>\n",
       "      <td>0.021889</td>\n",
       "    </tr>\n",
       "    <tr>\n",
       "      <th>2020-12-24</th>\n",
       "      <td>0.017094</td>\n",
       "      <td>0.051429</td>\n",
       "    </tr>\n",
       "    <tr>\n",
       "      <th>2020-12-28</th>\n",
       "      <td>-0.021414</td>\n",
       "      <td>0.011502</td>\n",
       "    </tr>\n",
       "    <tr>\n",
       "      <th>2020-12-29</th>\n",
       "      <td>0.004320</td>\n",
       "      <td>-0.005096</td>\n",
       "    </tr>\n",
       "    <tr>\n",
       "      <th>2020-12-30</th>\n",
       "      <td>0.021323</td>\n",
       "      <td>0.033902</td>\n",
       "    </tr>\n",
       "  </tbody>\n",
       "</table>\n",
       "<p>248 rows × 2 columns</p>\n",
       "</div>"
      ],
      "text/plain": [
       "                  SK        SE\n",
       "Date                          \n",
       "2020-01-02       NaN       NaN\n",
       "2020-01-03 -0.002114  0.005420\n",
       "2020-01-06 -0.002119  0.000000\n",
       "2020-01-07 -0.003186  0.005391\n",
       "2020-01-08  0.035531  0.017762\n",
       "...              ...       ...\n",
       "2020-12-23  0.030637  0.021889\n",
       "2020-12-24  0.017094  0.051429\n",
       "2020-12-28 -0.021414  0.011502\n",
       "2020-12-29  0.004320 -0.005096\n",
       "2020-12-30  0.021323  0.033902\n",
       "\n",
       "[248 rows x 2 columns]"
      ]
     },
     "execution_count": 6,
     "metadata": {},
     "output_type": "execute_result"
    }
   ],
   "source": [
    "# log_return\n",
    "returns = np.log(prices) - np.log(prices.shift(1))\n",
    "returns"
   ]
  },
  {
   "cell_type": "code",
   "execution_count": 9,
   "id": "ca3330e7",
   "metadata": {
    "ExecuteTime": {
     "end_time": "2021-08-31T09:58:31.250729Z",
     "start_time": "2021-08-31T09:58:30.648646Z"
    }
   },
   "outputs": [
    {
     "data": {
      "image/png": "[encoded data removed]",
      "text/plain": [
       "<Figure size 432x288 with 1 Axes>"
      ]
     },
     "metadata": {
      "needs_background": "light"
     },
     "output_type": "display_data"
    }
   ],
   "source": [
    "prices.plot()\n",
    "plt.show()"
   ]
  },
  {
   "cell_type": "code",
   "execution_count": 10,
   "id": "60355cc1",
   "metadata": {
    "ExecuteTime": {
     "end_time": "2021-08-31T09:58:31.763313Z",
     "start_time": "2021-08-31T09:58:31.253721Z"
    }
   },
   "outputs": [
    {
     "data": {
      "image/png": "[encoded data removed]",
      "text/plain": [
       "<Figure size 432x288 with 1 Axes>"
      ]
     },
     "metadata": {
      "needs_background": "light"
     },
     "output_type": "display_data"
    }
   ],
   "source": [
    "#누적수익률\n",
    "cumrt = (returns + 1).cumprod() -1\n",
    "cumrt.plot()\n",
    "plt.show()"
   ]
  },
  {
   "cell_type": "code",
   "execution_count": 11,
   "id": "c65120bb",
   "metadata": {
    "ExecuteTime": {
     "end_time": "2021-08-31T09:58:32.214516Z",
     "start_time": "2021-08-31T09:58:31.768012Z"
    }
   },
   "outputs": [
    {
     "data": {
      "image/png": "[encoded data removed]",
      "text/plain": [
       "<Figure size 1008x360 with 1 Axes>"
      ]
     },
     "metadata": {
      "needs_background": "light"
     },
     "output_type": "display_data"
    }
   ],
   "source": [
    "# 월별수익률\n",
    "def cumproduct(x):\n",
    "    return (x+1).prod() -1 \n",
    "\n",
    "returns.resample('M').apply(cumproduct).plot(kind='bar', figsize=(14,5))\n",
    "plt.show()"
   ]
  },
  {
   "cell_type": "markdown",
   "id": "feaf805f",
   "metadata": {},
   "source": [
    "### 연율화"
   ]
  },
  {
   "cell_type": "code",
   "execution_count": 12,
   "id": "2438bb28",
   "metadata": {
    "ExecuteTime": {
     "end_time": "2021-08-31T09:58:32.229477Z",
     "start_time": "2021-08-31T09:58:32.217510Z"
    }
   },
   "outputs": [
    {
     "data": {
      "text/plain": [
       "0.12682503013196977"
      ]
     },
     "execution_count": 12,
     "metadata": {},
     "output_type": "execute_result"
    }
   ],
   "source": [
    "rm =0.01\n",
    "(1+rm) ** 12 - 1"
   ]
  },
  {
   "cell_type": "code",
   "execution_count": 13,
   "id": "8f291190",
   "metadata": {
    "ExecuteTime": {
     "end_time": "2021-08-31T09:58:32.244436Z",
     "start_time": "2021-08-31T09:58:32.232468Z"
    }
   },
   "outputs": [
    {
     "data": {
      "text/plain": [
       "0.12550881000000014"
      ]
     },
     "execution_count": 13,
     "metadata": {},
     "output_type": "execute_result"
    }
   ],
   "source": [
    "rq = 0.03\n",
    "(1+rq)**4 - 1"
   ]
  },
  {
   "cell_type": "code",
   "execution_count": 14,
   "id": "103f84ae",
   "metadata": {
    "ExecuteTime": {
     "end_time": "2021-08-31T09:58:32.259396Z",
     "start_time": "2021-08-31T09:58:32.246433Z"
    }
   },
   "outputs": [
    {
     "data": {
      "text/plain": [
       "0.025518911987694626"
      ]
     },
     "execution_count": 14,
     "metadata": {},
     "output_type": "execute_result"
    }
   ],
   "source": [
    "rd = 0.0001\n",
    "(1+rd)**252 -1"
   ]
  },
  {
   "cell_type": "code",
   "execution_count": 15,
   "id": "57d9a9e6",
   "metadata": {
    "ExecuteTime": {
     "end_time": "2021-08-31T09:58:32.289550Z",
     "start_time": "2021-08-31T09:58:32.261419Z"
    }
   },
   "outputs": [
    {
     "data": {
      "text/html": [
       "<div>\n",
       "<style scoped>\n",
       "    .dataframe tbody tr th:only-of-type {\n",
       "        vertical-align: middle;\n",
       "    }\n",
       "\n",
       "    .dataframe tbody tr th {\n",
       "        vertical-align: top;\n",
       "    }\n",
       "\n",
       "    .dataframe thead th {\n",
       "        text-align: right;\n",
       "    }\n",
       "</style>\n",
       "<table border=\"1\" class=\"dataframe\">\n",
       "  <thead>\n",
       "    <tr style=\"text-align: right;\">\n",
       "      <th></th>\n",
       "      <th>SK</th>\n",
       "      <th>SE</th>\n",
       "    </tr>\n",
       "    <tr>\n",
       "      <th>Date</th>\n",
       "      <th></th>\n",
       "      <th></th>\n",
       "    </tr>\n",
       "  </thead>\n",
       "  <tbody>\n",
       "    <tr>\n",
       "      <th>2020-01-03</th>\n",
       "      <td>-0.002114</td>\n",
       "      <td>0.005420</td>\n",
       "    </tr>\n",
       "    <tr>\n",
       "      <th>2020-01-06</th>\n",
       "      <td>-0.002119</td>\n",
       "      <td>0.000000</td>\n",
       "    </tr>\n",
       "    <tr>\n",
       "      <th>2020-01-07</th>\n",
       "      <td>-0.003186</td>\n",
       "      <td>0.005391</td>\n",
       "    </tr>\n",
       "    <tr>\n",
       "      <th>2020-01-08</th>\n",
       "      <td>0.035531</td>\n",
       "      <td>0.017762</td>\n",
       "    </tr>\n",
       "    <tr>\n",
       "      <th>2020-01-09</th>\n",
       "      <td>0.016294</td>\n",
       "      <td>0.031198</td>\n",
       "    </tr>\n",
       "    <tr>\n",
       "      <th>...</th>\n",
       "      <td>...</td>\n",
       "      <td>...</td>\n",
       "    </tr>\n",
       "    <tr>\n",
       "      <th>2020-12-23</th>\n",
       "      <td>0.030637</td>\n",
       "      <td>0.021889</td>\n",
       "    </tr>\n",
       "    <tr>\n",
       "      <th>2020-12-24</th>\n",
       "      <td>0.017094</td>\n",
       "      <td>0.051429</td>\n",
       "    </tr>\n",
       "    <tr>\n",
       "      <th>2020-12-28</th>\n",
       "      <td>-0.021414</td>\n",
       "      <td>0.011502</td>\n",
       "    </tr>\n",
       "    <tr>\n",
       "      <th>2020-12-29</th>\n",
       "      <td>0.004320</td>\n",
       "      <td>-0.005096</td>\n",
       "    </tr>\n",
       "    <tr>\n",
       "      <th>2020-12-30</th>\n",
       "      <td>0.021323</td>\n",
       "      <td>0.033902</td>\n",
       "    </tr>\n",
       "  </tbody>\n",
       "</table>\n",
       "<p>247 rows × 2 columns</p>\n",
       "</div>"
      ],
      "text/plain": [
       "                  SK        SE\n",
       "Date                          \n",
       "2020-01-03 -0.002114  0.005420\n",
       "2020-01-06 -0.002119  0.000000\n",
       "2020-01-07 -0.003186  0.005391\n",
       "2020-01-08  0.035531  0.017762\n",
       "2020-01-09  0.016294  0.031198\n",
       "...              ...       ...\n",
       "2020-12-23  0.030637  0.021889\n",
       "2020-12-24  0.017094  0.051429\n",
       "2020-12-28 -0.021414  0.011502\n",
       "2020-12-29  0.004320 -0.005096\n",
       "2020-12-30  0.021323  0.033902\n",
       "\n",
       "[247 rows x 2 columns]"
      ]
     },
     "execution_count": 15,
     "metadata": {},
     "output_type": "execute_result"
    }
   ],
   "source": [
    "returns = returns.dropna()\n",
    "returns"
   ]
  },
  {
   "cell_type": "code",
   "execution_count": 16,
   "id": "1ee889bb",
   "metadata": {
    "ExecuteTime": {
     "end_time": "2021-08-31T09:58:32.304376Z",
     "start_time": "2021-08-31T09:58:32.291312Z"
    }
   },
   "outputs": [
    {
     "data": {
      "text/plain": [
       "SK    0.025847\n",
       "SE    0.020908\n",
       "dtype: float64"
      ]
     },
     "execution_count": 16,
     "metadata": {},
     "output_type": "execute_result"
    }
   ],
   "source": [
    "# 일별 변동성\n",
    "returns.std()"
   ]
  },
  {
   "cell_type": "code",
   "execution_count": 17,
   "id": "1505217c",
   "metadata": {
    "ExecuteTime": {
     "end_time": "2021-08-31T09:58:32.319237Z",
     "start_time": "2021-08-31T09:58:32.306272Z"
    }
   },
   "outputs": [
    {
     "data": {
      "text/plain": [
       "SK    0.410306\n",
       "SE    0.331902\n",
       "dtype: float64"
      ]
     },
     "execution_count": 17,
     "metadata": {},
     "output_type": "execute_result"
    }
   ],
   "source": [
    "# 변동성 연율화\n",
    "annualized_vol = returns.std() * np.sqrt(252)\n",
    "annualized_vol"
   ]
  },
  {
   "cell_type": "code",
   "execution_count": 18,
   "id": "76eb2315",
   "metadata": {
    "ExecuteTime": {
     "end_time": "2021-08-31T09:58:32.334340Z",
     "start_time": "2021-08-31T09:58:32.321232Z"
    }
   },
   "outputs": [
    {
     "data": {
      "text/plain": [
       "SK    0.156512\n",
       "SE    0.399953\n",
       "dtype: float64"
      ]
     },
     "execution_count": 18,
     "metadata": {},
     "output_type": "execute_result"
    }
   ],
   "source": [
    "# 기하평균\n",
    "def geo_mean(x):\n",
    "    return ((1+x).prod()) ** (1/len(x)) - 1\n",
    "\n",
    "rt_per_day = returns.apply(geo_mean)\n",
    "annualized_rt = (rt_per_day + 1) ** 252 -1\n",
    "annualized_rt"
   ]
  },
  {
   "cell_type": "code",
   "execution_count": 19,
   "id": "f6d4b1f9",
   "metadata": {
    "ExecuteTime": {
     "end_time": "2021-08-31T09:58:32.349156Z",
     "start_time": "2021-08-31T09:58:32.336192Z"
    }
   },
   "outputs": [
    {
     "data": {
      "text/plain": [
       "SK    0.308336\n",
       "SE    1.114647\n",
       "dtype: float64"
      ]
     },
     "execution_count": 19,
     "metadata": {},
     "output_type": "execute_result"
    }
   ],
   "source": [
    "# 샤프비율\n",
    "rf_rate = 0.03\n",
    "excess_rt = annualized_rt - rf_rate\n",
    "sharpe = excess_rt / annualized_vol\n",
    "sharpe"
   ]
  }
 ],
 "metadata": {
  "hide_input": false,
  "kernelspec": {
   "display_name": "Python 3 (ipykernel)",
   "language": "python",
   "name": "python3"
  },
  "language_info": {
   "codemirror_mode": {
    "name": "ipython",
    "version": 3
   },
   "file_extension": ".py",
   "mimetype": "text/x-python",
   "name": "python",
   "nbconvert_exporter": "python",
   "pygments_lexer": "ipython3",
   "version": "3.9.7"
  },
  "toc": {
   "base_numbering": 1,
   "nav_menu": {},
   "number_sections": true,
   "sideBar": true,
   "skip_h1_title": false,
   "title_cell": "Table of Contents",
   "title_sidebar": "Contents",
   "toc_cell": false,
   "toc_position": {},
   "toc_section_display": true,
   "toc_window_display": false
  },
  "varInspector": {
   "cols": {
    "lenName": 16,
    "lenType": 16,
    "lenVar": 40
   },
   "kernels_config": {
    "python": {
     "delete_cmd_postfix": "",
     "delete_cmd_prefix": "del ",
     "library": "var_list.py",
     "varRefreshCmd": "print(var_dic_list())"
    },
    "r": {
     "delete_cmd_postfix": ") ",
     "delete_cmd_prefix": "rm(",
     "library": "var_list.r",
     "varRefreshCmd": "cat(var_dic_list()) "
    }
   },
   "types_to_exclude": [
    "module",
    "function",
    "builtin_function_or_method",
    "instance",
    "_Feature"
   ],
   "window_display": false
  }
 },
 "nbformat": 4,
 "nbformat_minor": 5
}
