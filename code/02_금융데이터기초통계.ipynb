{
 "cells": [
  {
   "cell_type": "markdown",
   "id": "f20194cd",
   "metadata": {},
   "source": [
    "## 기초통계량"
   ]
  },
  {
   "cell_type": "markdown",
   "id": "a0797358",
   "metadata": {},
   "source": [
    "- mode\n",
    "- median\n",
    "- mean\n",
    "- variance\n",
    "- standard deviation\n",
    "- skewness\n",
    "- kurtosis"
   ]
  },
  {
   "cell_type": "code",
   "execution_count": 1,
   "id": "2f80fa75",
   "metadata": {
    "ExecuteTime": {
     "end_time": "2021-08-31T09:58:26.753879Z",
     "start_time": "2021-08-31T09:58:26.469766Z"
    }
   },
   "outputs": [
    {
     "data": {
      "text/html": [
       "<div>\n",
       "<style scoped>\n",
       "    .dataframe tbody tr th:only-of-type {\n",
       "        vertical-align: middle;\n",
       "    }\n",
       "\n",
       "    .dataframe tbody tr th {\n",
       "        vertical-align: top;\n",
       "    }\n",
       "\n",
       "    .dataframe thead th {\n",
       "        text-align: right;\n",
       "    }\n",
       "</style>\n",
       "<table border=\"1\" class=\"dataframe\">\n",
       "  <thead>\n",
       "    <tr style=\"text-align: right;\">\n",
       "      <th></th>\n",
       "      <th>Open</th>\n",
       "      <th>High</th>\n",
       "      <th>Low</th>\n",
       "      <th>Close</th>\n",
       "      <th>Volume</th>\n",
       "      <th>Change</th>\n",
       "    </tr>\n",
       "    <tr>\n",
       "      <th>Date</th>\n",
       "      <th></th>\n",
       "      <th></th>\n",
       "      <th></th>\n",
       "      <th></th>\n",
       "      <th></th>\n",
       "      <th></th>\n",
       "    </tr>\n",
       "  </thead>\n",
       "  <tbody>\n",
       "    <tr>\n",
       "      <th>2002-10-29</th>\n",
       "      <td>2312</td>\n",
       "      <td>2312</td>\n",
       "      <td>2312</td>\n",
       "      <td>2312</td>\n",
       "      <td>20549</td>\n",
       "      <td>NaN</td>\n",
       "    </tr>\n",
       "    <tr>\n",
       "      <th>2002-10-30</th>\n",
       "      <td>2587</td>\n",
       "      <td>2587</td>\n",
       "      <td>2558</td>\n",
       "      <td>2588</td>\n",
       "      <td>853638</td>\n",
       "      <td>0.119377</td>\n",
       "    </tr>\n",
       "    <tr>\n",
       "      <th>2002-10-31</th>\n",
       "      <td>2626</td>\n",
       "      <td>2689</td>\n",
       "      <td>2398</td>\n",
       "      <td>2459</td>\n",
       "      <td>1320880</td>\n",
       "      <td>-0.049845</td>\n",
       "    </tr>\n",
       "    <tr>\n",
       "      <th>2002-11-01</th>\n",
       "      <td>2520</td>\n",
       "      <td>2599</td>\n",
       "      <td>2215</td>\n",
       "      <td>2305</td>\n",
       "      <td>750761</td>\n",
       "      <td>-0.062627</td>\n",
       "    </tr>\n",
       "    <tr>\n",
       "      <th>2002-11-04</th>\n",
       "      <td>2285</td>\n",
       "      <td>2300</td>\n",
       "      <td>2135</td>\n",
       "      <td>2191</td>\n",
       "      <td>692165</td>\n",
       "      <td>-0.049458</td>\n",
       "    </tr>\n",
       "    <tr>\n",
       "      <th>...</th>\n",
       "      <td>...</td>\n",
       "      <td>...</td>\n",
       "      <td>...</td>\n",
       "      <td>...</td>\n",
       "      <td>...</td>\n",
       "      <td>...</td>\n",
       "    </tr>\n",
       "    <tr>\n",
       "      <th>2022-10-04</th>\n",
       "      <td>192000</td>\n",
       "      <td>192000</td>\n",
       "      <td>175500</td>\n",
       "      <td>176500</td>\n",
       "      <td>3753785</td>\n",
       "      <td>-0.087855</td>\n",
       "    </tr>\n",
       "    <tr>\n",
       "      <th>2022-10-05</th>\n",
       "      <td>170500</td>\n",
       "      <td>176000</td>\n",
       "      <td>164000</td>\n",
       "      <td>164000</td>\n",
       "      <td>6634375</td>\n",
       "      <td>-0.070822</td>\n",
       "    </tr>\n",
       "    <tr>\n",
       "      <th>2022-10-06</th>\n",
       "      <td>163500</td>\n",
       "      <td>169000</td>\n",
       "      <td>163000</td>\n",
       "      <td>167000</td>\n",
       "      <td>3477299</td>\n",
       "      <td>0.018293</td>\n",
       "    </tr>\n",
       "    <tr>\n",
       "      <th>2022-10-07</th>\n",
       "      <td>164000</td>\n",
       "      <td>167500</td>\n",
       "      <td>159500</td>\n",
       "      <td>160000</td>\n",
       "      <td>2596863</td>\n",
       "      <td>-0.041916</td>\n",
       "    </tr>\n",
       "    <tr>\n",
       "      <th>2022-10-11</th>\n",
       "      <td>156500</td>\n",
       "      <td>159500</td>\n",
       "      <td>156000</td>\n",
       "      <td>158500</td>\n",
       "      <td>1819912</td>\n",
       "      <td>-0.009375</td>\n",
       "    </tr>\n",
       "  </tbody>\n",
       "</table>\n",
       "<p>4933 rows × 6 columns</p>\n",
       "</div>"
      ],
      "text/plain": [
       "              Open    High     Low   Close   Volume    Change\n",
       "Date                                                         \n",
       "2002-10-29    2312    2312    2312    2312    20549       NaN\n",
       "2002-10-30    2587    2587    2558    2588   853638  0.119377\n",
       "2002-10-31    2626    2689    2398    2459  1320880 -0.049845\n",
       "2002-11-01    2520    2599    2215    2305   750761 -0.062627\n",
       "2002-11-04    2285    2300    2135    2191   692165 -0.049458\n",
       "...            ...     ...     ...     ...      ...       ...\n",
       "2022-10-04  192000  192000  175500  176500  3753785 -0.087855\n",
       "2022-10-05  170500  176000  164000  164000  6634375 -0.070822\n",
       "2022-10-06  163500  169000  163000  167000  3477299  0.018293\n",
       "2022-10-07  164000  167500  159500  160000  2596863 -0.041916\n",
       "2022-10-11  156500  159500  156000  158500  1819912 -0.009375\n",
       "\n",
       "[4933 rows x 6 columns]"
      ]
     },
     "execution_count": 1,
     "metadata": {},
     "output_type": "execute_result"
    }
   ],
   "source": [
    "import json\n",
    "#key:종목 / value:symbol인 딕셔너리 가져오기\n",
    "stock2code = json.load(open('data/stock2code.json','r'))\n",
    "\n",
    "naver = stock2code['NAVER']\n",
    "\n",
    "import FinanceDataReader as fdr\n",
    "data = fdr.DataReader(naver)\n",
    "data"
   ]
  },
  {
   "cell_type": "code",
   "execution_count": 2,
   "id": "4d818720",
   "metadata": {
    "ExecuteTime": {
     "end_time": "2021-08-31T09:58:26.798731Z",
     "start_time": "2021-08-31T09:58:26.757105Z"
    }
   },
   "outputs": [
    {
     "data": {
      "text/html": [
       "<div>\n",
       "<style scoped>\n",
       "    .dataframe tbody tr th:only-of-type {\n",
       "        vertical-align: middle;\n",
       "    }\n",
       "\n",
       "    .dataframe tbody tr th {\n",
       "        vertical-align: top;\n",
       "    }\n",
       "\n",
       "    .dataframe thead th {\n",
       "        text-align: right;\n",
       "    }\n",
       "</style>\n",
       "<table border=\"1\" class=\"dataframe\">\n",
       "  <thead>\n",
       "    <tr style=\"text-align: right;\">\n",
       "      <th></th>\n",
       "      <th>Open</th>\n",
       "      <th>High</th>\n",
       "      <th>Low</th>\n",
       "      <th>Close</th>\n",
       "      <th>Volume</th>\n",
       "      <th>Change</th>\n",
       "    </tr>\n",
       "  </thead>\n",
       "  <tbody>\n",
       "    <tr>\n",
       "      <th>count</th>\n",
       "      <td>4933.000000</td>\n",
       "      <td>4933.000000</td>\n",
       "      <td>4933.000000</td>\n",
       "      <td>4933.000000</td>\n",
       "      <td>4.933000e+03</td>\n",
       "      <td>4932.000000</td>\n",
       "    </tr>\n",
       "    <tr>\n",
       "      <th>mean</th>\n",
       "      <td>112013.228461</td>\n",
       "      <td>113651.431178</td>\n",
       "      <td>110300.489763</td>\n",
       "      <td>112416.873100</td>\n",
       "      <td>3.085453e+05</td>\n",
       "      <td>0.001219</td>\n",
       "    </tr>\n",
       "    <tr>\n",
       "      <th>std</th>\n",
       "      <td>97541.807473</td>\n",
       "      <td>98758.086649</td>\n",
       "      <td>96237.362206</td>\n",
       "      <td>97135.297209</td>\n",
       "      <td>3.254165e+05</td>\n",
       "      <td>0.027001</td>\n",
       "    </tr>\n",
       "    <tr>\n",
       "      <th>min</th>\n",
       "      <td>0.000000</td>\n",
       "      <td>0.000000</td>\n",
       "      <td>0.000000</td>\n",
       "      <td>1923.000000</td>\n",
       "      <td>0.000000e+00</td>\n",
       "      <td>-0.139536</td>\n",
       "    </tr>\n",
       "    <tr>\n",
       "      <th>25%</th>\n",
       "      <td>44103.000000</td>\n",
       "      <td>45012.000000</td>\n",
       "      <td>43349.000000</td>\n",
       "      <td>45547.000000</td>\n",
       "      <td>1.209070e+05</td>\n",
       "      <td>-0.014382</td>\n",
       "    </tr>\n",
       "    <tr>\n",
       "      <th>50%</th>\n",
       "      <td>80673.000000</td>\n",
       "      <td>82083.000000</td>\n",
       "      <td>78946.000000</td>\n",
       "      <td>81708.000000</td>\n",
       "      <td>2.081690e+05</td>\n",
       "      <td>0.000000</td>\n",
       "    </tr>\n",
       "    <tr>\n",
       "      <th>75%</th>\n",
       "      <td>154017.000000</td>\n",
       "      <td>155821.000000</td>\n",
       "      <td>151615.000000</td>\n",
       "      <td>153818.000000</td>\n",
       "      <td>3.804510e+05</td>\n",
       "      <td>0.014656</td>\n",
       "    </tr>\n",
       "    <tr>\n",
       "      <th>max</th>\n",
       "      <td>460000.000000</td>\n",
       "      <td>465000.000000</td>\n",
       "      <td>452000.000000</td>\n",
       "      <td>454000.000000</td>\n",
       "      <td>6.634375e+06</td>\n",
       "      <td>0.145978</td>\n",
       "    </tr>\n",
       "  </tbody>\n",
       "</table>\n",
       "</div>"
      ],
      "text/plain": [
       "                Open           High            Low          Close  \\\n",
       "count    4933.000000    4933.000000    4933.000000    4933.000000   \n",
       "mean   112013.228461  113651.431178  110300.489763  112416.873100   \n",
       "std     97541.807473   98758.086649   96237.362206   97135.297209   \n",
       "min         0.000000       0.000000       0.000000    1923.000000   \n",
       "25%     44103.000000   45012.000000   43349.000000   45547.000000   \n",
       "50%     80673.000000   82083.000000   78946.000000   81708.000000   \n",
       "75%    154017.000000  155821.000000  151615.000000  153818.000000   \n",
       "max    460000.000000  465000.000000  452000.000000  454000.000000   \n",
       "\n",
       "             Volume       Change  \n",
       "count  4.933000e+03  4932.000000  \n",
       "mean   3.085453e+05     0.001219  \n",
       "std    3.254165e+05     0.027001  \n",
       "min    0.000000e+00    -0.139536  \n",
       "25%    1.209070e+05    -0.014382  \n",
       "50%    2.081690e+05     0.000000  \n",
       "75%    3.804510e+05     0.014656  \n",
       "max    6.634375e+06     0.145978  "
      ]
     },
     "execution_count": 2,
     "metadata": {},
     "output_type": "execute_result"
    }
   ],
   "source": [
    "#data의 간단한 통계정보 확인\n",
    "data.describe()"
   ]
  },
  {
   "cell_type": "code",
   "execution_count": 3,
   "id": "17a1a569",
   "metadata": {
    "ExecuteTime": {
     "end_time": "2021-08-31T09:58:26.843611Z",
     "start_time": "2021-08-31T09:58:26.800726Z"
    }
   },
   "outputs": [
    {
     "name": "stdout",
     "output_type": "stream",
     "text": [
      "****MEDIAN****\n",
      "Open       80673.0\n",
      "High       82083.0\n",
      "Low        78946.0\n",
      "Close      81708.0\n",
      "Volume    208169.0\n",
      "Change         0.0\n",
      "dtype: float64\n",
      "\n",
      "****산술평균****\n",
      "Open      112013.228461\n",
      "High      113651.431178\n",
      "Low       110300.489763\n",
      "Close     112416.873100\n",
      "Volume    308545.313805\n",
      "Change         0.001219\n",
      "dtype: float64\n",
      "\n",
      "****산술평균(axis=1)****\n",
      "Date\n",
      "2002-10-29      2312.00\n",
      "2002-10-30      2580.00\n",
      "2002-10-31      2543.00\n",
      "2002-11-01      2409.75\n",
      "2002-11-04      2227.75\n",
      "                ...    \n",
      "2022-10-04    184000.00\n",
      "2022-10-05    168625.00\n",
      "2022-10-06    165625.00\n",
      "2022-10-07    162750.00\n",
      "2022-10-11    157625.00\n",
      "Length: 4933, dtype: float64\n",
      "\n",
      "****최빈값****\n",
      "   Open  High  Low  Close  Volume  Change\n",
      "0     0     0    0  92130       0     0.0\n",
      "\n",
      "****분산****\n",
      "Open      9.514404e+09\n",
      "High      9.753160e+09\n",
      "Low       9.261630e+09\n",
      "Close     9.435266e+09\n",
      "Volume    1.058959e+11\n",
      "Change    7.290487e-04\n",
      "dtype: float64\n",
      "\n",
      "****표준편차****\n",
      "Open       97541.807473\n",
      "High       98758.086649\n",
      "Low        96237.362206\n",
      "Close      97135.297209\n",
      "Volume    325416.478828\n",
      "Change         0.027001\n",
      "dtype: float64\n",
      "\n",
      "****왜도****\n",
      "Open      1.393589\n",
      "High      1.391619\n",
      "Low       1.395118\n",
      "Close     1.397686\n",
      "Volume    4.872988\n",
      "Change    0.449442\n",
      "dtype: float64\n",
      "\n",
      "****첨도****\n",
      "Open       1.708560\n",
      "High       1.701544\n",
      "Low        1.712485\n",
      "Close      1.724726\n",
      "Volume    53.480985\n",
      "Change     2.641640\n",
      "dtype: float64\n"
     ]
    }
   ],
   "source": [
    "print(\"****MEDIAN****\")\n",
    "print(data.median())\n",
    "print()\n",
    "\n",
    "print(\"****산술평균****\")\n",
    "print(data.mean())\n",
    "print()\n",
    "print(\"****산술평균(axis=1)****\")\n",
    "print(data[['Open','High','Low','Close']].mean(axis=1))\n",
    "print()\n",
    "print(\"****최빈값****\")\n",
    "print(data.mode())\n",
    "print()\n",
    "print(\"****분산****\")\n",
    "print(data.var())\n",
    "print()\n",
    "print(\"****표준편차****\")\n",
    "print(data.std())\n",
    "print()\n",
    "print(\"****왜도****\")\n",
    "print(data.skew())\n",
    "print()\n",
    "print(\"****첨도****\")\n",
    "print(data.kurtosis())"
   ]
  },
  {
   "cell_type": "markdown",
   "id": "bf423642",
   "metadata": {},
   "source": [
    "### 기하평균"
   ]
  },
  {
   "cell_type": "code",
   "execution_count": 4,
   "id": "939f7d7c",
   "metadata": {
    "ExecuteTime": {
     "end_time": "2021-08-31T09:58:26.858572Z",
     "start_time": "2021-08-31T09:58:26.846604Z"
    }
   },
   "outputs": [
    {
     "data": {
      "text/plain": [
       "0.006700724354720703"
      ]
     },
     "execution_count": 4,
     "metadata": {},
     "output_type": "execute_result"
    }
   ],
   "source": [
    "#산술평균\n",
    "data.Change.loc['2021-06-01':'2021-06-30'].mean()"
   ]
  },
  {
   "cell_type": "code",
   "execution_count": 5,
   "id": "fa790b50",
   "metadata": {
    "ExecuteTime": {
     "end_time": "2021-08-31T09:58:26.873532Z",
     "start_time": "2021-08-31T09:58:26.860567Z"
    }
   },
   "outputs": [
    {
     "data": {
      "text/plain": [
       "22"
      ]
     },
     "execution_count": 5,
     "metadata": {},
     "output_type": "execute_result"
    }
   ],
   "source": [
    "len(data.Change.loc['2021-06-01':'2021-06-30'])"
   ]
  },
  {
   "cell_type": "code",
   "execution_count": 6,
   "id": "85a08611",
   "metadata": {
    "ExecuteTime": {
     "end_time": "2021-08-31T09:58:26.888518Z",
     "start_time": "2021-08-31T09:58:26.875527Z"
    }
   },
   "outputs": [
    {
     "data": {
      "text/plain": [
       "0.0064415705210247864"
      ]
     },
     "execution_count": 6,
     "metadata": {},
     "output_type": "execute_result"
    }
   ],
   "source": [
    "#기하평균\n",
    "((data.Change.loc['2021-06-01':'2021-06-30'] + 1).prod()) ** (1/22)  - 1"
   ]
  },
  {
   "cell_type": "code",
   "execution_count": 7,
   "id": "71b86241",
   "metadata": {
    "ExecuteTime": {
     "end_time": "2021-08-31T09:58:26.903510Z",
     "start_time": "2021-08-31T09:58:26.892483Z"
    }
   },
   "outputs": [],
   "source": [
    "def geo_mean(x):\n",
    "    return (x +1).prod() ** (1/len(x)) - 1"
   ]
  },
  {
   "cell_type": "code",
   "execution_count": 8,
   "id": "1dcd7f8c",
   "metadata": {
    "ExecuteTime": {
     "end_time": "2021-08-31T09:58:26.918411Z",
     "start_time": "2021-08-31T09:58:26.907443Z"
    }
   },
   "outputs": [
    {
     "name": "stdout",
     "output_type": "stream",
     "text": [
      "기하평균 0.0008573796331969863\n",
      "산술평균 0.0012192839974673939\n"
     ]
    }
   ],
   "source": [
    "print(\"기하평균\", geo_mean(data.Change))\n",
    "print(\"산술평균\", data.Change.mean())"
   ]
  },
  {
   "cell_type": "markdown",
   "id": "254a2eff",
   "metadata": {},
   "source": [
    "## 이동평균"
   ]
  },
  {
   "cell_type": "markdown",
   "id": "fc4dcfdb",
   "metadata": {},
   "source": [
    "### 단순이동평균과 지수이동평균"
   ]
  },
  {
   "cell_type": "code",
   "execution_count": 13,
   "id": "7ebe85c2",
   "metadata": {
    "ExecuteTime": {
     "end_time": "2021-08-31T09:58:27.490249Z",
     "start_time": "2021-08-31T09:58:26.921405Z"
    }
   },
   "outputs": [
    {
     "data": {
      "image/png": "[encoded data removed]",
      "text/plain": [
       "<Figure size 432x288 with 1 Axes>"
      ]
     },
     "metadata": {
      "needs_background": "light"
     },
     "output_type": "display_data"
    }
   ],
   "source": [
    "import matplotlib.pyplot as plt\n",
    "import pandas as pd\n",
    "\n",
    "data.Close['2021-05-01':].plot(label='close')\n",
    "data.Close.rolling(12).mean().loc['2021-05-01':].plot(label='sma12')\n",
    "data.Close.ewm(12).mean().loc['2021-05-01':].plot(label='ema12')\n",
    "plt.legend()\n",
    "plt.show()"
   ]
  },
  {
   "cell_type": "markdown",
   "id": "2f1f83d7",
   "metadata": {},
   "source": [
    "## 상관"
   ]
  },
  {
   "cell_type": "markdown",
   "id": "3acdab3e",
   "metadata": {},
   "source": [
    "- 공분산\n",
    "- 상관계수"
   ]
  },
  {
   "cell_type": "code",
   "execution_count": 14,
   "id": "cabf2ee0",
   "metadata": {
    "ExecuteTime": {
     "end_time": "2021-08-31T09:58:27.760441Z",
     "start_time": "2021-08-31T09:58:27.491894Z"
    }
   },
   "outputs": [
    {
     "data": {
      "text/html": [
       "<div>\n",
       "<style scoped>\n",
       "    .dataframe tbody tr th:only-of-type {\n",
       "        vertical-align: middle;\n",
       "    }\n",
       "\n",
       "    .dataframe tbody tr th {\n",
       "        vertical-align: top;\n",
       "    }\n",
       "\n",
       "    .dataframe thead th {\n",
       "        text-align: right;\n",
       "    }\n",
       "</style>\n",
       "<table border=\"1\" class=\"dataframe\">\n",
       "  <thead>\n",
       "    <tr style=\"text-align: right;\">\n",
       "      <th></th>\n",
       "      <th>Cellt</th>\n",
       "      <th>SKBio</th>\n",
       "    </tr>\n",
       "  </thead>\n",
       "  <tbody>\n",
       "    <tr>\n",
       "      <th>Cellt</th>\n",
       "      <td>2.293990e+09</td>\n",
       "      <td>1.011212e+09</td>\n",
       "    </tr>\n",
       "    <tr>\n",
       "      <th>SKBio</th>\n",
       "      <td>1.011212e+09</td>\n",
       "      <td>3.554237e+09</td>\n",
       "    </tr>\n",
       "  </tbody>\n",
       "</table>\n",
       "</div>"
      ],
      "text/plain": [
       "              Cellt         SKBio\n",
       "Cellt  2.293990e+09  1.011212e+09\n",
       "SKBio  1.011212e+09  3.554237e+09"
      ]
     },
     "execution_count": 14,
     "metadata": {},
     "output_type": "execute_result"
    }
   ],
   "source": [
    "df1 = fdr.DataReader(stock2code['셀트리온']).Close\n",
    "df2 = fdr.DataReader(stock2code['SK바이오사이언스']).Close\n",
    "df = pd.concat([df1, df2], axis=1).dropna()\n",
    "df.columns = ['Cellt','SKBio']\n",
    "\n",
    "#공분산\n",
    "df.cov()"
   ]
  },
  {
   "cell_type": "code",
   "execution_count": 15,
   "id": "2d36838c",
   "metadata": {
    "ExecuteTime": {
     "end_time": "2021-08-31T09:58:27.775179Z",
     "start_time": "2021-08-31T09:58:27.761437Z"
    }
   },
   "outputs": [
    {
     "data": {
      "text/html": [
       "<div>\n",
       "<style scoped>\n",
       "    .dataframe tbody tr th:only-of-type {\n",
       "        vertical-align: middle;\n",
       "    }\n",
       "\n",
       "    .dataframe tbody tr th {\n",
       "        vertical-align: top;\n",
       "    }\n",
       "\n",
       "    .dataframe thead th {\n",
       "        text-align: right;\n",
       "    }\n",
       "</style>\n",
       "<table border=\"1\" class=\"dataframe\">\n",
       "  <thead>\n",
       "    <tr style=\"text-align: right;\">\n",
       "      <th></th>\n",
       "      <th>Cellt</th>\n",
       "      <th>SKBio</th>\n",
       "    </tr>\n",
       "  </thead>\n",
       "  <tbody>\n",
       "    <tr>\n",
       "      <th>Cellt</th>\n",
       "      <td>1.000000</td>\n",
       "      <td>0.354138</td>\n",
       "    </tr>\n",
       "    <tr>\n",
       "      <th>SKBio</th>\n",
       "      <td>0.354138</td>\n",
       "      <td>1.000000</td>\n",
       "    </tr>\n",
       "  </tbody>\n",
       "</table>\n",
       "</div>"
      ],
      "text/plain": [
       "          Cellt     SKBio\n",
       "Cellt  1.000000  0.354138\n",
       "SKBio  0.354138  1.000000"
      ]
     },
     "execution_count": 15,
     "metadata": {},
     "output_type": "execute_result"
    }
   ],
   "source": [
    "#상관계수\n",
    "df.corr()"
   ]
  },
  {
   "cell_type": "code",
   "execution_count": 16,
   "id": "fcd9f59c",
   "metadata": {
    "ExecuteTime": {
     "end_time": "2021-08-31T09:58:27.835505Z",
     "start_time": "2021-08-31T09:58:27.777699Z"
    }
   },
   "outputs": [
    {
     "data": {
      "text/plain": [
       "0.35413843079416285"
      ]
     },
     "execution_count": 16,
     "metadata": {},
     "output_type": "execute_result"
    }
   ],
   "source": [
    "#공분산 값과 표준편차값으로 상관계수 연산\n",
    "df.cov().iloc[0,1] / (df.Cellt.std() * df.SKBio.std())"
   ]
  },
  {
   "cell_type": "markdown",
   "id": "536e48e3",
   "metadata": {},
   "source": [
    "## 회귀분석"
   ]
  },
  {
   "cell_type": "code",
   "execution_count": 33,
   "id": "0d302235",
   "metadata": {
    "ExecuteTime": {
     "end_time": "2021-08-31T09:58:41.412163Z",
     "start_time": "2021-08-31T09:58:27.837501Z"
    }
   },
   "outputs": [
    {
     "name": "stdout",
     "output_type": "stream",
     "text": [
      "Requirement already satisfied: scikit-learn in c:\\programdata\\anaconda3\\lib\\site-packages (0.24.2)\n",
      "Requirement already satisfied: numpy>=1.13.3 in c:\\programdata\\anaconda3\\lib\\site-packages (from scikit-learn) (1.20.3)\n",
      "Requirement already satisfied: joblib>=0.11 in c:\\programdata\\anaconda3\\lib\\site-packages (from scikit-learn) (1.1.0)\n",
      "Requirement already satisfied: threadpoolctl>=2.0.0 in c:\\programdata\\anaconda3\\lib\\site-packages (from scikit-learn) (2.2.0)\n",
      "Requirement already satisfied: scipy>=0.19.1 in c:\\programdata\\anaconda3\\lib\\site-packages (from scikit-learn) (1.7.1)\n"
     ]
    },
    {
     "name": "stderr",
     "output_type": "stream",
     "text": [
      "WARNING: Ignoring invalid distribution -na (c:\\programdata\\anaconda3\\lib\\site-packages)\n",
      "WARNING: Ignoring invalid distribution -okeh (c:\\programdata\\anaconda3\\lib\\site-packages)\n",
      "WARNING: Ignoring invalid distribution - (c:\\programdata\\anaconda3\\lib\\site-packages)\n",
      "WARNING: Ignoring invalid distribution -dna (c:\\programdata\\anaconda3\\lib\\site-packages)\n",
      "WARNING: Ignoring invalid distribution -na (c:\\programdata\\anaconda3\\lib\\site-packages)\n",
      "WARNING: Ignoring invalid distribution -okeh (c:\\programdata\\anaconda3\\lib\\site-packages)\n",
      "WARNING: Ignoring invalid distribution - (c:\\programdata\\anaconda3\\lib\\site-packages)\n",
      "WARNING: Ignoring invalid distribution -dna (c:\\programdata\\anaconda3\\lib\\site-packages)\n",
      "WARNING: Ignoring invalid distribution -na (c:\\programdata\\anaconda3\\lib\\site-packages)\n",
      "WARNING: Ignoring invalid distribution -okeh (c:\\programdata\\anaconda3\\lib\\site-packages)\n",
      "WARNING: Ignoring invalid distribution - (c:\\programdata\\anaconda3\\lib\\site-packages)\n",
      "WARNING: Ignoring invalid distribution -dna (c:\\programdata\\anaconda3\\lib\\site-packages)\n",
      "WARNING: Ignoring invalid distribution -na (c:\\programdata\\anaconda3\\lib\\site-packages)\n",
      "WARNING: Ignoring invalid distribution -okeh (c:\\programdata\\anaconda3\\lib\\site-packages)\n",
      "WARNING: Ignoring invalid distribution - (c:\\programdata\\anaconda3\\lib\\site-packages)\n",
      "WARNING: Ignoring invalid distribution -dna (c:\\programdata\\anaconda3\\lib\\site-packages)\n",
      "WARNING: Ignoring invalid distribution -na (c:\\programdata\\anaconda3\\lib\\site-packages)\n",
      "WARNING: Ignoring invalid distribution -okeh (c:\\programdata\\anaconda3\\lib\\site-packages)\n",
      "WARNING: Ignoring invalid distribution - (c:\\programdata\\anaconda3\\lib\\site-packages)\n",
      "WARNING: Ignoring invalid distribution -dna (c:\\programdata\\anaconda3\\lib\\site-packages)\n",
      "WARNING: Ignoring invalid distribution -na (c:\\programdata\\anaconda3\\lib\\site-packages)\n",
      "WARNING: Ignoring invalid distribution -okeh (c:\\programdata\\anaconda3\\lib\\site-packages)\n",
      "WARNING: Ignoring invalid distribution - (c:\\programdata\\anaconda3\\lib\\site-packages)\n",
      "WARNING: Ignoring invalid distribution -dna (c:\\programdata\\anaconda3\\lib\\site-packages)\n"
     ]
    },
    {
     "name": "stdout",
     "output_type": "stream",
     "text": [
      "Requirement already satisfied: statsmodels in c:\\programdata\\anaconda3\\lib\\site-packages (0.12.2)\n",
      "Requirement already satisfied: numpy>=1.15 in c:\\programdata\\anaconda3\\lib\\site-packages (from statsmodels) (1.20.3)\n",
      "Requirement already satisfied: scipy>=1.1 in c:\\programdata\\anaconda3\\lib\\site-packages (from statsmodels) (1.7.1)\n",
      "Requirement already satisfied: pandas>=0.21 in c:\\programdata\\anaconda3\\lib\\site-packages (from statsmodels) (1.3.4)\n",
      "Requirement already satisfied: patsy>=0.5 in c:\\programdata\\anaconda3\\lib\\site-packages (from statsmodels) (0.5.2)\n",
      "Requirement already satisfied: pytz>=2017.3 in c:\\programdata\\anaconda3\\lib\\site-packages (from pandas>=0.21->statsmodels) (2021.3)\n",
      "Requirement already satisfied: python-dateutil>=2.7.3 in c:\\programdata\\anaconda3\\lib\\site-packages (from pandas>=0.21->statsmodels) (2.8.2)\n",
      "Requirement already satisfied: six in c:\\programdata\\anaconda3\\lib\\site-packages (from patsy>=0.5->statsmodels) (1.16.0)\n"
     ]
    },
    {
     "name": "stderr",
     "output_type": "stream",
     "text": [
      "WARNING: Ignoring invalid distribution -na (c:\\programdata\\anaconda3\\lib\\site-packages)\n",
      "WARNING: Ignoring invalid distribution -okeh (c:\\programdata\\anaconda3\\lib\\site-packages)\n",
      "WARNING: Ignoring invalid distribution - (c:\\programdata\\anaconda3\\lib\\site-packages)\n",
      "WARNING: Ignoring invalid distribution -dna (c:\\programdata\\anaconda3\\lib\\site-packages)\n",
      "WARNING: Ignoring invalid distribution -na (c:\\programdata\\anaconda3\\lib\\site-packages)\n",
      "WARNING: Ignoring invalid distribution -okeh (c:\\programdata\\anaconda3\\lib\\site-packages)\n",
      "WARNING: Ignoring invalid distribution - (c:\\programdata\\anaconda3\\lib\\site-packages)\n",
      "WARNING: Ignoring invalid distribution -dna (c:\\programdata\\anaconda3\\lib\\site-packages)\n",
      "WARNING: Ignoring invalid distribution -na (c:\\programdata\\anaconda3\\lib\\site-packages)\n",
      "WARNING: Ignoring invalid distribution -okeh (c:\\programdata\\anaconda3\\lib\\site-packages)\n",
      "WARNING: Ignoring invalid distribution - (c:\\programdata\\anaconda3\\lib\\site-packages)\n",
      "WARNING: Ignoring invalid distribution -dna (c:\\programdata\\anaconda3\\lib\\site-packages)\n",
      "WARNING: Ignoring invalid distribution -na (c:\\programdata\\anaconda3\\lib\\site-packages)\n",
      "WARNING: Ignoring invalid distribution -okeh (c:\\programdata\\anaconda3\\lib\\site-packages)\n",
      "WARNING: Ignoring invalid distribution - (c:\\programdata\\anaconda3\\lib\\site-packages)\n",
      "WARNING: Ignoring invalid distribution -dna (c:\\programdata\\anaconda3\\lib\\site-packages)\n",
      "WARNING: Ignoring invalid distribution -na (c:\\programdata\\anaconda3\\lib\\site-packages)\n",
      "WARNING: Ignoring invalid distribution -okeh (c:\\programdata\\anaconda3\\lib\\site-packages)\n",
      "WARNING: Ignoring invalid distribution - (c:\\programdata\\anaconda3\\lib\\site-packages)\n",
      "WARNING: Ignoring invalid distribution -dna (c:\\programdata\\anaconda3\\lib\\site-packages)\n",
      "WARNING: Ignoring invalid distribution -na (c:\\programdata\\anaconda3\\lib\\site-packages)\n",
      "WARNING: Ignoring invalid distribution -okeh (c:\\programdata\\anaconda3\\lib\\site-packages)\n",
      "WARNING: Ignoring invalid distribution - (c:\\programdata\\anaconda3\\lib\\site-packages)\n",
      "WARNING: Ignoring invalid distribution -dna (c:\\programdata\\anaconda3\\lib\\site-packages)\n"
     ]
    }
   ],
   "source": [
    "!pip install scikit-learn\n",
    "!pip install statsmodels"
   ]
  },
  {
   "cell_type": "markdown",
   "id": "7519f6ec",
   "metadata": {},
   "source": [
    "### scikit-learn"
   ]
  },
  {
   "cell_type": "code",
   "execution_count": 20,
   "id": "e5b1c9fc",
   "metadata": {
    "ExecuteTime": {
     "end_time": "2021-08-31T09:58:41.996646Z",
     "start_time": "2021-08-31T09:58:41.775195Z"
    }
   },
   "outputs": [],
   "source": [
    "from sklearn.linear_model import LinearRegression\n",
    "import statsmodels.api as sm"
   ]
  },
  {
   "cell_type": "code",
   "execution_count": 29,
   "id": "96d88d2d",
   "metadata": {
    "ExecuteTime": {
     "end_time": "2021-08-31T09:58:42.026465Z",
     "start_time": "2021-08-31T09:58:42.001419Z"
    }
   },
   "outputs": [
    {
     "data": {
      "text/plain": [
       "array([[1.000e+00, 0.000e+00],\n",
       "       [1.000e+00, 1.000e+00],\n",
       "       [1.000e+00, 2.000e+00],\n",
       "       ...,\n",
       "       [1.000e+00, 4.930e+03],\n",
       "       [1.000e+00, 4.931e+03],\n",
       "       [1.000e+00, 4.932e+03]])"
      ]
     },
     "execution_count": 29,
     "metadata": {},
     "output_type": "execute_result"
    }
   ],
   "source": [
    "#상수항 넣어주기\n",
    "index= sm.add_constant(data.index)\n",
    "index"
   ]
  },
  {
   "cell_type": "code",
   "execution_count": 30,
   "id": "1797134b",
   "metadata": {
    "ExecuteTime": {
     "end_time": "2021-08-31T09:58:42.087048Z",
     "start_time": "2021-08-31T09:58:42.031510Z"
    }
   },
   "outputs": [
    {
     "data": {
      "text/plain": [
       "LinearRegression()"
      ]
     },
     "execution_count": 30,
     "metadata": {},
     "output_type": "execute_result"
    }
   ],
   "source": [
    "model = LinearRegression(fit_intercept=True)\n",
    "model.fit(index, data.Close)"
   ]
  },
  {
   "cell_type": "code",
   "execution_count": 31,
   "id": "63849557",
   "metadata": {
    "ExecuteTime": {
     "end_time": "2021-08-31T09:58:42.101984Z",
     "start_time": "2021-08-31T09:58:42.090922Z"
    }
   },
   "outputs": [
    {
     "data": {
      "text/plain": [
       "(array([ 0.        , 59.35859024]), -33961.41042996003)"
      ]
     },
     "execution_count": 31,
     "metadata": {},
     "output_type": "execute_result"
    }
   ],
   "source": [
    "#회귀선 기울기, 상수항\n",
    "model.coef_, model.intercept_"
   ]
  },
  {
   "cell_type": "code",
   "execution_count": 32,
   "id": "f9c2c61e",
   "metadata": {
    "ExecuteTime": {
     "end_time": "2021-08-31T09:58:42.477813Z",
     "start_time": "2021-08-31T09:58:42.105881Z"
    }
   },
   "outputs": [
    {
     "data": {
      "image/png": "[encoded data removed]",
      "text/plain": [
       "<Figure size 432x288 with 1 Axes>"
      ]
     },
     "metadata": {
      "needs_background": "light"
     },
     "output_type": "display_data"
    }
   ],
   "source": [
    "plt.plot(data.index, data.Close)\n",
    "plt.plot(index, index * model.coef_ + model.intercept_)\n",
    "plt.show()"
   ]
  },
  {
   "cell_type": "markdown",
   "id": "1ea0c833",
   "metadata": {},
   "source": [
    "### statsmodels"
   ]
  },
  {
   "cell_type": "code",
   "execution_count": 23,
   "id": "7030f9df",
   "metadata": {
    "ExecuteTime": {
     "end_time": "2021-08-31T09:58:42.537444Z",
     "start_time": "2021-08-31T09:58:42.491602Z"
    }
   },
   "outputs": [
    {
     "data": {
      "text/html": [
       "<table class=\"simpletable\">\n",
       "<caption>OLS Regression Results</caption>\n",
       "<tr>\n",
       "  <th>Dep. Variable:</th>          <td>Close</td>      <th>  R-squared:         </th> <td>   0.757</td> \n",
       "</tr>\n",
       "<tr>\n",
       "  <th>Model:</th>                   <td>OLS</td>       <th>  Adj. R-squared:    </th> <td>   0.757</td> \n",
       "</tr>\n",
       "<tr>\n",
       "  <th>Method:</th>             <td>Least Squares</td>  <th>  F-statistic:       </th> <td>1.540e+04</td>\n",
       "</tr>\n",
       "<tr>\n",
       "  <th>Date:</th>             <td>Tue, 11 Oct 2022</td> <th>  Prob (F-statistic):</th>  <td>  0.00</td>  \n",
       "</tr>\n",
       "<tr>\n",
       "  <th>Time:</th>                 <td>23:46:10</td>     <th>  Log-Likelihood:    </th> <td> -60155.</td> \n",
       "</tr>\n",
       "<tr>\n",
       "  <th>No. Observations:</th>      <td>  4933</td>      <th>  AIC:               </th> <td>1.203e+05</td>\n",
       "</tr>\n",
       "<tr>\n",
       "  <th>Df Residuals:</th>          <td>  4931</td>      <th>  BIC:               </th> <td>1.203e+05</td>\n",
       "</tr>\n",
       "<tr>\n",
       "  <th>Df Model:</th>              <td>     1</td>      <th>                     </th>     <td> </td>    \n",
       "</tr>\n",
       "<tr>\n",
       "  <th>Covariance Type:</th>      <td>nonrobust</td>    <th>                     </th>     <td> </td>    \n",
       "</tr>\n",
       "</table>\n",
       "<table class=\"simpletable\">\n",
       "<tr>\n",
       "    <td></td>       <th>coef</th>     <th>std err</th>      <th>t</th>      <th>P>|t|</th>  <th>[0.025</th>    <th>0.975]</th>  \n",
       "</tr>\n",
       "<tr>\n",
       "  <th>const</th> <td>-3.396e+04</td> <td> 1362.225</td> <td>  -24.931</td> <td> 0.000</td> <td>-3.66e+04</td> <td>-3.13e+04</td>\n",
       "</tr>\n",
       "<tr>\n",
       "  <th>x1</th>    <td>   59.3586</td> <td>    0.478</td> <td>  124.085</td> <td> 0.000</td> <td>   58.421</td> <td>   60.296</td>\n",
       "</tr>\n",
       "</table>\n",
       "<table class=\"simpletable\">\n",
       "<tr>\n",
       "  <th>Omnibus:</th>       <td>1483.075</td> <th>  Durbin-Watson:     </th> <td>   0.004</td>\n",
       "</tr>\n",
       "<tr>\n",
       "  <th>Prob(Omnibus):</th>  <td> 0.000</td>  <th>  Jarque-Bera (JB):  </th> <td>4944.191</td>\n",
       "</tr>\n",
       "<tr>\n",
       "  <th>Skew:</th>           <td> 1.509</td>  <th>  Prob(JB):          </th> <td>    0.00</td>\n",
       "</tr>\n",
       "<tr>\n",
       "  <th>Kurtosis:</th>       <td> 6.866</td>  <th>  Cond. No.          </th> <td>5.69e+03</td>\n",
       "</tr>\n",
       "</table><br/><br/>Notes:<br/>[1] Standard Errors assume that the covariance matrix of the errors is correctly specified.<br/>[2] The condition number is large, 5.69e+03. This might indicate that there are<br/>strong multicollinearity or other numerical problems."
      ],
      "text/plain": [
       "<class 'statsmodels.iolib.summary.Summary'>\n",
       "\"\"\"\n",
       "                            OLS Regression Results                            \n",
       "==============================================================================\n",
       "Dep. Variable:                  Close   R-squared:                       0.757\n",
       "Model:                            OLS   Adj. R-squared:                  0.757\n",
       "Method:                 Least Squares   F-statistic:                 1.540e+04\n",
       "Date:                Tue, 11 Oct 2022   Prob (F-statistic):               0.00\n",
       "Time:                        23:46:10   Log-Likelihood:                -60155.\n",
       "No. Observations:                4933   AIC:                         1.203e+05\n",
       "Df Residuals:                    4931   BIC:                         1.203e+05\n",
       "Df Model:                           1                                         \n",
       "Covariance Type:            nonrobust                                         \n",
       "==============================================================================\n",
       "                 coef    std err          t      P>|t|      [0.025      0.975]\n",
       "------------------------------------------------------------------------------\n",
       "const      -3.396e+04   1362.225    -24.931      0.000   -3.66e+04   -3.13e+04\n",
       "x1            59.3586      0.478    124.085      0.000      58.421      60.296\n",
       "==============================================================================\n",
       "Omnibus:                     1483.075   Durbin-Watson:                   0.004\n",
       "Prob(Omnibus):                  0.000   Jarque-Bera (JB):             4944.191\n",
       "Skew:                           1.509   Prob(JB):                         0.00\n",
       "Kurtosis:                       6.866   Cond. No.                     5.69e+03\n",
       "==============================================================================\n",
       "\n",
       "Notes:\n",
       "[1] Standard Errors assume that the covariance matrix of the errors is correctly specified.\n",
       "[2] The condition number is large, 5.69e+03. This might indicate that there are\n",
       "strong multicollinearity or other numerical problems.\n",
       "\"\"\""
      ]
     },
     "execution_count": 23,
     "metadata": {},
     "output_type": "execute_result"
    }
   ],
   "source": [
    "index = sm.add_constant(data.index)\n",
    "model = sm.OLS(data.Close, index)\n",
    "result = model.fit()\n",
    "result.summary()"
   ]
  },
  {
   "cell_type": "code",
   "execution_count": 24,
   "id": "876c5605",
   "metadata": {
    "ExecuteTime": {
     "end_time": "2021-08-31T09:58:42.552403Z",
     "start_time": "2021-08-31T09:58:42.543428Z"
    }
   },
   "outputs": [
    {
     "data": {
      "text/plain": [
       "const   -33961.41043\n",
       "x1          59.35859\n",
       "dtype: float64"
      ]
     },
     "execution_count": 24,
     "metadata": {},
     "output_type": "execute_result"
    }
   ],
   "source": [
    "result.params"
   ]
  },
  {
   "cell_type": "code",
   "execution_count": 25,
   "id": "98c629c0",
   "metadata": {
    "ExecuteTime": {
     "end_time": "2021-08-31T09:58:42.567362Z",
     "start_time": "2021-08-31T09:58:42.555397Z"
    }
   },
   "outputs": [
    {
     "data": {
      "text/plain": [
       "0.7574291650724031"
      ]
     },
     "execution_count": 25,
     "metadata": {},
     "output_type": "execute_result"
    }
   ],
   "source": [
    "result.rsquared"
   ]
  },
  {
   "cell_type": "code",
   "execution_count": 26,
   "id": "47938314",
   "metadata": {
    "ExecuteTime": {
     "end_time": "2021-08-31T09:58:42.837714Z",
     "start_time": "2021-08-31T09:58:42.569358Z"
    }
   },
   "outputs": [
    {
     "data": {
      "image/png": "[encoded data removed]",
      "text/plain": [
       "<Figure size 432x288 with 1 Axes>"
      ]
     },
     "metadata": {
      "needs_background": "light"
     },
     "output_type": "display_data"
    }
   ],
   "source": [
    "plt.plot(data.index, data.Close)\n",
    "result.fittedvalues.plot()\n",
    "plt.show()"
   ]
  }
 ],
 "metadata": {
  "hide_input": false,
  "kernelspec": {
   "display_name": "Python 3 (ipykernel)",
   "language": "python",
   "name": "python3"
  },
  "language_info": {
   "codemirror_mode": {
    "name": "ipython",
    "version": 3
   },
   "file_extension": ".py",
   "mimetype": "text/x-python",
   "name": "python",
   "nbconvert_exporter": "python",
   "pygments_lexer": "ipython3",
   "version": "3.9.7"
  },
  "toc": {
   "base_numbering": 1,
   "nav_menu": {},
   "number_sections": true,
   "sideBar": true,
   "skip_h1_title": false,
   "title_cell": "Table of Contents",
   "title_sidebar": "Contents",
   "toc_cell": false,
   "toc_position": {},
   "toc_section_display": true,
   "toc_window_display": false
  },
  "varInspector": {
   "cols": {
    "lenName": 16,
    "lenType": 16,
    "lenVar": 40
   },
   "kernels_config": {
    "python": {
     "delete_cmd_postfix": "",
     "delete_cmd_prefix": "del ",
     "library": "var_list.py",
     "varRefreshCmd": "print(var_dic_list())"
    },
    "r": {
     "delete_cmd_postfix": ") ",
     "delete_cmd_prefix": "rm(",
     "library": "var_list.r",
     "varRefreshCmd": "cat(var_dic_list()) "
    }
   },
   "types_to_exclude": [
    "module",
    "function",
    "builtin_function_or_method",
    "instance",
    "_Feature"
   ],
   "window_display": false
  }
 },
 "nbformat": 4,
 "nbformat_minor": 5
}
